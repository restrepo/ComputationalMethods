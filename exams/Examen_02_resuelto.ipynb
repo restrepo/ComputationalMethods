{
 "cells": [
  {
   "cell_type": "markdown",
   "metadata": {},
   "source": [
    "<div style=\"float: right;\" markdown=\"1\">\n",
    "    <img src=\"../material/figures/leastaction.png\">\n",
    "</div>\n",
    "Para el problema de un resorte con una masa en el extremo de 0.2 Kg y una constante elástica $k=0.8$ N/m, defina una función en Python que mininimize la acción\n",
    "\n",
    "\n",
    "$$S=\\int_{t_1}^{t_2} L\\, {\\rm d}t $$\n",
    "entre $t_1=\\pi/8$ y $t_2=3\\pi/8$ que corresponden a elongaciones $x_{\\text{ini}}=0.70710678118654757$ m y $x_{\\text{end}}=x_{\\text{ini}}$ m\n",
    "\n",
    "y donde \n",
    "\n",
    "$$L(x,\\dot{x})=T(t)-V(t)$$\n",
    "\n",
    "con\n",
    "$$T=\\frac12 m v^2\\,,\\qquad V=\\frac12 k x^2\\,$$\n",
    "\n",
    "Para la trayectoria que minimize la acción encuentre y grafique  todas la cantidades físicas como velocidad, aceleración y energía.\n"
   ]
  },
  {
   "cell_type": "code",
   "execution_count": 1,
   "metadata": {},
   "outputs": [
    {
     "name": "stdout",
     "output_type": "stream",
     "text": [
      "Populating the interactive namespace from numpy and matplotlib\n"
     ]
    }
   ],
   "source": [
    "%pylab inline"
   ]
  },
  {
   "cell_type": "code",
   "execution_count": 2,
   "metadata": {
    "collapsed": true
   },
   "outputs": [],
   "source": [
    "from scipy import interpolate\n",
    "from scipy.misc import derivative"
   ]
  },
  {
   "cell_type": "code",
   "execution_count": 3,
   "metadata": {
    "collapsed": true
   },
   "outputs": [],
   "source": [
    "def S(x,t1=np.pi/8,t2=3*np.pi/8,m=0.2,k=0.8,xini=0.70710678118654757,xend=0.70710678118654757):\n",
    "    x=np.asarray(x)\n",
    "    t=np.linspace(t1,t2,x.shape[0])\n",
    "    Dt=t[1]-t[0]\n",
    "    #Fix initial and final point\n",
    "    x[0]=xini\n",
    "    x[-1]=xend\n",
    "    return  (( 0.5*m*(x[1:]-x[:-1])**2/Dt**2-0.5*k*(   0.5*(x[1:]+x[:-1])   )**2 )*Dt).sum()\n",
    "    #v=(x[1:]-x[:-1])/( t[1:]-t[:-1] )\n",
    "    #trange=0.5*(t[1:]+t[:-1])  # can be also evaluated at t[1:] or t[:-1]\n",
    "    #return integrate.trapz( 0.5*m*v**2-0.5*k*(   0.5*(x[1:]+x[:-1])   )**2 , trange )"
   ]
  },
  {
   "cell_type": "markdown",
   "metadata": {},
   "source": [
    "La solución analítica corresponde a la ecuación de movimiento:\n",
    "$$x=\\sin(\\omega t)/2$$\n",
    "y será usada para comparar con el resultado numérico obtenido"
   ]
  },
  {
   "cell_type": "code",
   "execution_count": 4,
   "metadata": {},
   "outputs": [
    {
     "data": {
      "text/plain": [
       "<matplotlib.legend.Legend at 0x7fc423f119b0>"
      ]
     },
     "execution_count": 4,
     "metadata": {},
     "output_type": "execute_result"
    },
    {
     "data": {
      "image/png": "[encoded data removed]",
      "text/plain": [
       "<matplotlib.figure.Figure at 0x7fc3d10fc9b0>"
      ]
     },
     "metadata": {},
     "output_type": "display_data"
    }
   ],
   "source": [
    "xmin=0.70710678118654757\n",
    "xmax=xmin\n",
    "tmin=np.pi/8;tmax=3*np.pi/8\n",
    "m=0.2\n",
    "k=0.8\n",
    "ω=np.sqrt(k/m)\n",
    "t=np.linspace(tmin,tmax)\n",
    "\n",
    "plt.plot(t,sin(ω*t),'k-', label='S={} J.s'.format(round( S( sin(ω*t) ),5 ) )  )\n",
    "\n",
    "tt=np.array( [tmin,2*tmin,3*tmin])\n",
    "X=np.array( [xmin,1,xmax])\n",
    "plt.plot(tt,X,'r-',label='S={} J.s'.format(round( S(X),3 ) ) )\n",
    "\n",
    "X=np.array( [xmin,1.2,xmax])\n",
    "plt.plot(tt,X,'g--',label='S={} J.s'.format(round( S(X),3 ) ) )\n",
    "\n",
    "X=np.array( [xmin,0.8,xmax])\n",
    "plt.plot(tt,X,'c--',label='S={} J.s'.format(round( S(X),3 ) ) )\n",
    "\n",
    "\n",
    "\n",
    "plt.legend(loc='best')"
   ]
  },
  {
   "cell_type": "code",
   "execution_count": 5,
   "metadata": {
    "collapsed": true
   },
   "outputs": [],
   "source": [
    "def xfit(n,t1=np.pi/8,t2=3*np.pi/8,m=0.2,k=0.8,xini=0.70710678118654757,xend=0.70710678118654757,ftol=1E-8):\n",
    "    '''Find the array of n (odd) components that minimizes the action S(x)\n",
    "\n",
    "    :Parameters:\n",
    "\n",
    "    n: odd integer \n",
    "        dimension of the ndarray x that minimizes the action  S(x,t,m)\n",
    "    t,m: numbers\n",
    "       optional parameters for the action\n",
    "    ftol: number\n",
    "        acceptable relative error in S(x) for convergence.\n",
    "\n",
    "    :Returns: (x,xmax,Smin)\n",
    "    \n",
    "    x: ndarray\n",
    "        minimizer of the action S(x)\n",
    "        \n",
    "    xini:\n",
    "    \n",
    "    xend:\n",
    "\n",
    "    xmax: number\n",
    "        Maximum height for the object\n",
    "\n",
    "    Smin: number\n",
    "        value of function at minimum: Smin = S(x)\n",
    "    '''\n",
    "    import scipy.optimize as optimize\n",
    "    #t=float(t)\n",
    "    if n%2==0:\n",
    "        print ( 'x array must be odd')\n",
    "        sys.exit()\n",
    "  \n",
    "    x0=np.zeros(n)\n",
    "    a=optimize.fmin_powell(S,x0,args=(t1,t2,m,k,xini,xend),ftol=ftol,full_output=1)\n",
    "    x=a[0]\n",
    "    x[0]=xini;x[-1]=xend\n",
    "    xmax=np.sort(x)[-1]\n",
    "    Smin=a[1]\n",
    "    Dt=t/x[:-1].size #  t/(n-1)\n",
    "    return x,xmax,Smin,Dt  "
   ]
  },
  {
   "cell_type": "code",
   "execution_count": 6,
   "metadata": {},
   "outputs": [
    {
     "name": "stdout",
     "output_type": "stream",
     "text": [
      "Optimization terminated successfully.\n",
      "         Current function value: -0.199974\n",
      "         Iterations: 64\n",
      "         Function evaluations: 32066\n"
     ]
    }
   ],
   "source": [
    "Smin=xfit(51,t1=np.pi/8,t2=3*np.pi/8,m=0.2,k=0.8,xini=0.70710678118654757,xend=0.70710678118654757,ftol=1E-6)"
   ]
  },
  {
   "cell_type": "code",
   "execution_count": 7,
   "metadata": {},
   "outputs": [
    {
     "data": {
      "text/plain": [
       "<matplotlib.legend.Legend at 0x7fc3cedbfba8>"
      ]
     },
     "execution_count": 7,
     "metadata": {},
     "output_type": "execute_result"
    },
    {
     "data": {
      "image/png": "[encoded data removed]",
      "text/plain": [
       "<matplotlib.figure.Figure at 0x7fc3cee0b358>"
      ]
     },
     "metadata": {},
     "output_type": "display_data"
    }
   ],
   "source": [
    "xmin=0.70710678118654757\n",
    "xmax=xmin\n",
    "tmin=np.pi/8;tmax=3*np.pi/8\n",
    "\n",
    "m=0.2\n",
    "k=0.8\n",
    "ω=np.sqrt(k/m)\n",
    "t=np.linspace(tmin,tmax)\n",
    "\n",
    "plt.plot(t,sin(ω*t),'y-', label='S={} J.s'.format(round( S( sin(ω*t) ),5 ) )  )\n",
    "X=np.array( [xmin,1,xmax])\n",
    "tt=np.array( [np.pi/8,np.pi/4,np.pi/8+np.pi/4])\n",
    "plt.plot(tt,X,'r-',label='S={} J.s'.format(round( S(X),3 ) ) )\n",
    "\n",
    "t=np.linspace(tmin,tmax,Smin[0].shape[0])\n",
    "plt.plot(t,Smin[0],'k--', label='S={} J.s'.format(round( Smin[2] ,5 ) )  )\n",
    "\n",
    "plt.legend(loc='best')"
   ]
  },
  {
   "cell_type": "markdown",
   "metadata": {},
   "source": [
    "Equation of motion"
   ]
  },
  {
   "cell_type": "code",
   "execution_count": 8,
   "metadata": {},
   "outputs": [],
   "source": [
    "x=Smin[0]"
   ]
  },
  {
   "cell_type": "markdown",
   "metadata": {},
   "source": [
    "for"
   ]
  },
  {
   "cell_type": "code",
   "execution_count": 9,
   "metadata": {
    "collapsed": true
   },
   "outputs": [],
   "source": [
    "t=np.linspace(tmin,tmax,Smin[0].shape[0])"
   ]
  },
  {
   "cell_type": "code",
   "execution_count": 10,
   "metadata": {
    "collapsed": true
   },
   "outputs": [],
   "source": [
    "def derivate(func,x0,**kwargs):\n",
    "    '''\n",
    "    Vectorized replacement of scipy.misc derivative:\n",
    "        from scipy.misc import derivative\n",
    "    For usage check the derivative help, e.g, in jupyter: \n",
    "        from scipy.misc import derivative\n",
    "        derivative?\n",
    "    '''\n",
    "    from scipy.misc import derivative\n",
    "    try:\n",
    "        nn=np.array(x0).shape[0] # force error if float is used \n",
    "        fp=np.vectorize(derivative)\n",
    "    except IndexError:\n",
    "        fp=derivative\n",
    "        \n",
    "    return fp(func,x0,**kwargs)\n",
    "\n",
    "\n",
    "\n",
    "def interpol1d_to_function(x0,x=[0,1,2],y=[0,1,2],full_range=False):\n",
    "    '''\n",
    "    Converts interpolation to function\n",
    "    '''\n",
    "    return interpolate.interp1d(x,y)(x0)"
   ]
  },
  {
   "cell_type": "code",
   "execution_count": 11,
   "metadata": {},
   "outputs": [
    {
     "data": {
      "text/plain": [
       "((51,), (51,))"
      ]
     },
     "execution_count": 11,
     "metadata": {},
     "output_type": "execute_result"
    }
   ],
   "source": [
    "x.shape,t.shape"
   ]
  },
  {
   "cell_type": "code",
   "execution_count": 12,
   "metadata": {},
   "outputs": [],
   "source": [
    "tavg=0.5*(t[1:]+t[:-1])\n",
    "xavg=0.5*(x[1:]+x[:-1])"
   ]
  },
  {
   "cell_type": "code",
   "execution_count": 13,
   "metadata": {
    "collapsed": true
   },
   "outputs": [],
   "source": [
    "def Y(xx):\n",
    "    return interpol1d_to_function(xx,t,x)"
   ]
  },
  {
   "cell_type": "code",
   "execution_count": 14,
   "metadata": {
    "collapsed": true
   },
   "outputs": [],
   "source": [
    "v=derivate(Y,tavg,dx=1E-6)"
   ]
  },
  {
   "cell_type": "code",
   "execution_count": 15,
   "metadata": {},
   "outputs": [
    {
     "data": {
      "text/plain": [
       "array([ 0.39985953,  0.39984749,  0.39985763,  0.3998457 ,  0.39984897,\n",
       "        0.39984727,  0.39984723,  0.3998489 ,  0.39984774,  0.39984946,\n",
       "        0.39984875,  0.39984953,  0.3998494 ,  0.39984952,  0.3998496 ,\n",
       "        0.39984955,  0.39984967,  0.39984962,  0.39984968,  0.39984963,\n",
       "        0.39984964,  0.39984959,  0.3998496 ,  0.39984963,  0.39984963,\n",
       "        0.39984963,  0.39984963,  0.39984975,  0.39984976,  0.39984955,\n",
       "        0.39984957,  0.39984926,  0.39984926,  0.39985097,  0.39985098,\n",
       "        0.39984836,  0.39984839,  0.39984611,  0.39984611,  0.39985736,\n",
       "        0.39985736,  0.39985112,  0.39985112,  0.39983962,  0.39983962,\n",
       "        0.39984599,  0.39984599,  0.39985989,  0.39985516,  0.39985517])"
      ]
     },
     "execution_count": 15,
     "metadata": {},
     "output_type": "execute_result"
    }
   ],
   "source": [
    "E=0.5*m*v**2+0.5*k*xavg**2\n",
    "E"
   ]
  },
  {
   "cell_type": "code",
   "execution_count": 17,
   "metadata": {
    "collapsed": true
   },
   "outputs": [],
   "source": [
    "tpavg=0.5*(tavg[1:]+tavg[:-1])\n",
    "xpavg=0.5*(xavg[1:]+xavg[:-1])"
   ]
  },
  {
   "cell_type": "code",
   "execution_count": 18,
   "metadata": {
    "collapsed": true
   },
   "outputs": [],
   "source": [
    "def Y(xx):\n",
    "    return interpol1d_to_function(xx,tavg,v)"
   ]
  },
  {
   "cell_type": "code",
   "execution_count": 19,
   "metadata": {
    "collapsed": true
   },
   "outputs": [],
   "source": [
    "a=derivate(Y,tpavg,dx=1E-6)"
   ]
  },
  {
   "cell_type": "markdown",
   "metadata": {},
   "source": [
    "$\\omega^2=-a/x$"
   ]
  },
  {
   "cell_type": "code",
   "execution_count": 24,
   "metadata": {},
   "outputs": [
    {
     "data": {
      "text/plain": [
       "4.0"
      ]
     },
     "execution_count": 24,
     "metadata": {},
     "output_type": "execute_result"
    }
   ],
   "source": [
    "ω**2"
   ]
  },
  {
   "cell_type": "code",
   "execution_count": 25,
   "metadata": {},
   "outputs": [
    {
     "data": {
      "text/plain": [
       "array([ 4.00384403,  3.99674356,  4.00386907,  3.99892387,  4.00057013,\n",
       "        4.00001362,  3.99941265,  4.00042042,  3.99935043,  4.00027949,\n",
       "        3.99967687,  4.00005971,  3.99994145,  3.999961  ,  4.00002761,\n",
       "        3.99992639,  4.00003862,  3.9999509 ,  4.00004568,  3.99998345,\n",
       "        4.00006482,  3.99998883,  3.99992221,  4.00000587,  3.99992156,\n",
       "        4.00001006,  4.00029585,  4.00001859,  3.99973623,  4.00001922,\n",
       "        3.99972679,  3.99999932,  4.00113165,  4.00000639,  3.99858417,\n",
       "        4.00001272,  3.99893989,  3.99999993,  4.00464793,  4.00000001,\n",
       "        3.99764861,  4.        ,  3.99595114,  4.        ,  4.00213185,\n",
       "        4.        ,  4.00450912,  3.99848053,  4.00000309])"
      ]
     },
     "execution_count": 25,
     "metadata": {},
     "output_type": "execute_result"
    }
   ],
   "source": [
    "-a/xpavg"
   ]
  },
  {
   "cell_type": "code",
   "execution_count": 26,
   "metadata": {},
   "outputs": [
    {
     "data": {
      "text/plain": [
       "<matplotlib.text.Text at 0x7fc3ced57e48>"
      ]
     },
     "execution_count": 26,
     "metadata": {},
     "output_type": "execute_result"
    },
    {
     "data": {
      "image/png": "[encoded data removed]",
      "text/plain": [
       "<matplotlib.figure.Figure at 0x7fc3cee86b00>"
      ]
     },
     "metadata": {},
     "output_type": "display_data"
    }
   ],
   "source": [
    "plt.plot(tavg,xavg,'y-',label=r'$x$ [m]')\n",
    "plt.plot(tavg,v/ω,'r-',label=r'$\\dot{x}/\\omega$ [m]')\n",
    "#plt.plot(tavg,E,'b--',label=r'E')\n",
    "plt.plot(tpavg,-a/ω**2,'k--',label=r'$\\ddot{x}/\\omega^2$ [m]')\n",
    "plt.legend(loc='best',fontsize=15) \n",
    "plt.xlabel(r'$t$ [s]',size=15 )"
   ]
  },
  {
   "cell_type": "code",
   "execution_count": 27,
   "metadata": {},
   "outputs": [
    {
     "data": {
      "text/plain": [
       "(0, 1)"
      ]
     },
     "execution_count": 27,
     "metadata": {},
     "output_type": "execute_result"
    },
    {
     "data": {
      "image/png": "[encoded data removed]",
      "text/plain": [
       "<matplotlib.figure.Figure at 0x7fc3ced69940>"
      ]
     },
     "metadata": {},
     "output_type": "display_data"
    }
   ],
   "source": [
    "plt.plot(tavg,E,'b--')\n",
    "plt.xlabel(r'$t$ [s]',size=15 )\n",
    "plt.xlabel(r'$E$ [J]',size=15 )\n",
    "plt.ylim(0,1)"
   ]
  },
  {
   "cell_type": "markdown",
   "metadata": {},
   "source": [
    "##  Appendix:"
   ]
  },
  {
   "cell_type": "markdown",
   "metadata": {},
   "source": [
    "### Starting at time 0s"
   ]
  },
  {
   "cell_type": "code",
   "execution_count": 28,
   "metadata": {
    "collapsed": true
   },
   "outputs": [],
   "source": [
    "S?"
   ]
  },
  {
   "cell_type": "code",
   "execution_count": 29,
   "metadata": {},
   "outputs": [
    {
     "data": {
      "text/plain": [
       "<matplotlib.legend.Legend at 0x7fc3ced57c18>"
      ]
     },
     "execution_count": 29,
     "metadata": {},
     "output_type": "execute_result"
    },
    {
     "data": {
      "image/png": "[encoded data removed]",
      "text/plain": [
       "<matplotlib.figure.Figure at 0x7fc3cec006d8>"
      ]
     },
     "metadata": {},
     "output_type": "display_data"
    }
   ],
   "source": [
    "xmin=0.70710678118654757\n",
    "xmax=xmin\n",
    "tmin=0;tmax=np.pi/4\n",
    "m=0.2\n",
    "k=0.8\n",
    "ω=np.sqrt(k/m)\n",
    "t=np.linspace(tmin,tmax)\n",
    "\n",
    "plt.plot(t,sin(ω*(t+ np.pi/8)) ,'k-', label='S={} J.s'.format(round( S( sin(ω*(t+ np.pi/8)),t1=0,t2=np.pi/4 ),5 ) )  )\n",
    "\n",
    "tt=np.array( [tmin,np.pi/8,np.pi/4])\n",
    "X=np.array( [xmin,1,xmax])\n",
    "plt.plot(tt,X,'r-',label='S={} J.s'.format(round( S(X,t1=0,t2=np.pi/4),3 ) ) )\n",
    "\n",
    "X=np.array( [xmin,1.2,xmax])\n",
    "plt.plot(tt,X,'g--',label='S={} J.s'.format(round( S(X,t1=0,t2=np.pi/4),3 ) ) )\n",
    "\n",
    "X=np.array( [xmin,0.8,xmax])\n",
    "plt.plot(tt,X,'c--',label='S={} J.s'.format(round( S(X, t1=0,t2=np.pi/4),3 ) ) )\n",
    "\n",
    "\n",
    "\n",
    "plt.legend(loc='best')"
   ]
  },
  {
   "cell_type": "code",
   "execution_count": 203,
   "metadata": {
    "collapsed": true
   },
   "outputs": [],
   "source": [
    "def interpol1d_to_function(x0,x=[0,1,2],y=[0,1,2],full_range=False):\n",
    "    '''\n",
    "    Converts interpolation to function\n",
    "    #Returns the evaluation of the interpolated function(*args,**kwargs)\n",
    "    #in an array x0 even when some value inside \n",
    "    '''\n",
    "    #try:\n",
    "    #if True:\n",
    "    return interpolate.interp1d(x,y)(x0)\n",
    "    #except ValueError:\n",
    "    #    return 0\n",
    "\n",
    "    \n",
    "m=0.2\n",
    "k=0.8\n",
    "ω=np.sqrt(k/m)\n",
    "    \n",
    "#x=[xini,1,xend]\n",
    "#if True:    \n",
    "#    t1=np.pi/8;t2=3*np.pi/8;m=0.2;k=0.8;xini=0.70710678118654757;xend=0.70710678118654757    \n",
    "def S(x,t1=np.pi/8,t2=3*np.pi/8,m=0.2,k=0.8,xini=0.70710678118654757,xend=0.70710678118654757):    \n",
    "    x=np.asarray(x)\n",
    "    t=np.linspace(t1,t2,x.shape[0])\n",
    "    def X(t0):\n",
    "        return interpol1d_to_function(t0,t,x)\n",
    "    \n",
    "    t0=0.5*(t[1:]+t[:-1])\n",
    "    SS=integrate.trapz( 0.5*m*derivate(X,t0,dx=1E-6 )**2-0.5*k*X(t0)**2,t0 )\n",
    "    return SS"
   ]
  }
 ],
 "metadata": {
  "kernelspec": {
   "display_name": "Python 3",
   "language": "python",
   "name": "python3"
  },
  "language_info": {
   "codemirror_mode": {
    "name": "ipython",
    "version": 3
   },
   "file_extension": ".py",
   "mimetype": "text/x-python",
   "name": "python",
   "nbconvert_exporter": "python",
   "pygments_lexer": "ipython3",
   "version": "3.4.2"
  },
  "toc": {
   "colors": {
    "hover_highlight": "#DAA520",
    "running_highlight": "#FF0000",
    "selected_highlight": "#FFD700"
   },
   "moveMenuLeft": true,
   "nav_menu": {
    "height": "12px",
    "width": "252px"
   },
   "navigate_menu": true,
   "number_sections": true,
   "sideBar": true,
   "threshold": 4,
   "toc_cell": false,
   "toc_section_display": "block",
   "toc_window_display": false
  }
 },
 "nbformat": 4,
 "nbformat_minor": 2
}
