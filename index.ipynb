{
 "cells": [
  {
   "cell_type": "markdown",
   "metadata": {},
   "source": [
    "Computational Methods for Physics & Astronomy\n",
    "===================================\n",
    "by: **Sebastian Bustamante** *2014/2015*\n",
    "\n",
    "![](https://raw.githubusercontent.com/sbustamante/ComputationalMethods/master/material/figures/Collage.png)\n",
    "\n",
    "This course is intended for students of Astronomy and Physics at the Universidad de Antioquia \n",
    "and will cover some numerical methods commonly used in science and specially in \n",
    "astronomy. These topics will be addressed from a formal context but also keeping \n",
    "a practical and computational approach, illustrating many useful applications in\n",
    "problems of physics and astronomy.\n",
    "\n",
    "\n",
    "The practical component will be almost entirely developed in *Python* and \n",
    "slightly less in *C* (when computational performance is required). \n",
    "However students with knowledge in other programming languages (except\n",
    "privative languages like MatLab, Mathematica) are also aimed to use them.\n",
    "\n",
    "\n",
    "In this repository it can be found all the related material of the course, \n",
    "including the detailed program, notes and presentations, examples (ipython \n",
    "notebooks) and homeworks. (This repository may be subject to changes continuously \n",
    "as the course advances).\n",
    "\n",
    "\n",
    "[**SYLLABUS**](https://github.com/sbustamante/ComputationalMethods/raw/master/syllabus/Programa_M%C3%A9todos_Computacionales.pdf):\n",
    "detailed description of the program of the course, including a brief motivation and presentation, \n",
    "topics to be covered, evaluation and bibliography.\n",
    "\n",
    "\n",
    "Contents\n",
    "--------\n",
    "\n",
    "### 1. **Python** *(1 week)*\n",
    "    \n",
    "**Topics**\n",
    "- [Git usage](./material/Syncing_fork.ipynb)\n",
    "- [Overview of python](./material/overview-python.ipynb)\n",
    "- [Basic scripting](./material/basic-scripting.ipynb)\n",
    "- [Implementation of scientific libraries](./material/scientific-libraries.ipynb)\n",
    "- [Plotting with matplotlib](./material/matplotlib.ipynb)\n",
    "- [Ipython notebooks](./material/ipython-notebooks.ipynb)\n",
    "\n",
    "**Activities**\n",
    "- *Activity 01:* Solve the problems in the section [Exercises](./material/Basic_exercises.ipynb). \n",
    "\n",
    "### 2. **Mathematical Preliminaries** *(1 week)*\n",
    "    \n",
    "**Topics**\n",
    "\n",
    "- [Pandas](./material/Pandas.ipynb)\n",
    "- [Computer arithmetics and round-off methods](./material/computer-arithmetics.ipynb)\n",
    "- [Algorithms and convergence](./material/algorithms-convergence.ipynb)\n",
    "- [Optimization](./material/numba.ipynb)\n",
    "\n",
    "### 3. **One Variable Equations** *(2 weeks)*\n",
    "    \n",
    "**Topics**\n",
    "- [Bisection method](./material/one-variable-equations.ipynb#Bisection-Method)\n",
    "- [Fixed-point iteration](./material/one-variable-equations.ipynb#Fixed-point-Iteration)\n",
    "- [Newton-Raphson method](./material/one-variable-equations.ipynb#Newton-Raphson-Method)\n",
    "- [Secant method](./material/one-variable-equations.ipynb#Secant-Method)\n",
    "- [Minimization](./material/Minimization.ipynb)\n",
    "\n",
    "### 4. **Interpolation Techniques** *(2 weeks)*\n",
    "    \n",
    "**Topics**\n",
    "- [Linear interpolation](./material/interpolation.ipynb#Linear-Interpolation)\n",
    "- [Lagrange polynomials](./material/interpolation.ipynb#Lagrange-Polynomial)\n",
    "- [Divided differences](./material/interpolation_details.ipynb#Divided-Differences)\n",
    "- [Hermite interpolation](./material/interpolation_details.ipynb#Hermite-Interpolation)\n",
    "\n",
    "### 5. **Numerical Calculus** *(2 weeks)*\n",
    "    \n",
    "**Topics**\n",
    "- [Numerical differentiation](./material/numerical-calculus.ipynb#Numerical-Differentiation)\n",
    "- [Numerical integration](./material/numerical-calculus-integration.ipynb#Numerical-Integration)\n",
    "- [Composite numerical integration](./material/numerical-calculus-integration.ipynb#Composite-Numerical-Integration)\n",
    "- [Adaptive quadrature methods](./material/numerical-calculus-integration.ipynb#Adaptive-Quadrature-Methods)\n",
    "- [Improper integrals](./material/numerical-calculus-integration.ipynb#Improper-Integrals)\n",
    "\n",
    "**Activities**\n",
    "- *Activity:* [ Derivative exercise ](http://nbviewer.jupyter.org/github/sbustamante/ComputationalMethods/blob/master/activities/T-profile-bar.ipynb)\n",
    "\n",
    "### 6. **Linear Algebra** *(2 weeks)*\n",
    "    \n",
    "**Topics**\n",
    "- [Linear systems of equations](./material/linear-algebra.ipynb#Linear-Systems-of-Equations)\n",
    "- [Gaussian elimination](./material/linear-algebra.ipynb#Gaussian-Elimination)\n",
    "- [Pivoting strategies](./material/linear-algebra.ipynb#Pivoting-Strategies)\n",
    "- [Matrix inversion](./material/linear-algebra.ipynb#Matrix-Inversion)\n",
    "- [Determinant of a Matrix](./material/linear-algebra.ipynb#Determinant-of-a-Matrix)\n",
    "- [LU factorization](./material/linear-algebra.ipynb#LU-Factorization)\n",
    "\n",
    "### 7. **Differential Equations** *(2 weeks)*\n",
    "    \n",
    "**Topics**\n",
    "- [First order methods](./material/differential-equations.ipynb#First-Order-Methods)\n",
    "- [High order methods](./material/differential-equations.ipynb#High-Order-Methods)\n",
    "- [Two-Point boundary value problems](./material/differential-equations.ipynb#Two-Point-Boundary-Value-Problems)\n",
    "\n",
    "### 8. **Statistics** *(1 week)*\n",
    "\n",
    "**Topics**\n",
    "- [Data adjust](./material/statistics.ipynb)\n",
    "- [Random Numbers](./material/statistics.ipynb#Random-Numbers)"
   ]
  },
  {
   "cell_type": "markdown",
   "metadata": {
    "collapsed": true
   },
   "source": [
    "## Bibliography\n",
    "[1] [Jensen, Computational_Physics](https://drive.google.com/file/d/0BxoOXsn2EUNIekRUMFVPYXVsSTg/view?usp=sharing).  Companion repos: https://github.com/mhjensen <br/>\n",
    "[2] [Landau Paez, A Survey of Computational Physics ](https://drive.google.com/file/d/0BxoOXsn2EUNIejJXVEVRUV9DclU/view?usp=sharing)<br/>\n",
    "[3] [Kiusalaas, Numerical Methods in Engineering with Python](https://drive.google.com/file/d/0BxoOXsn2EUNIQUdFVkctR2xWRUk/view?usp=sharing)<br/>\n",
    "[4] [Sørenssen Elementary Mechanics Using Python_ A Modern Course Combining Analytical and Numerical Techniques_](https://drive.google.com/file/d/0BxoOXsn2EUNIVHR4T1BKMEVDX2c/view?usp=sharing)<br/>\n",
    "[5] [Langtangen_Python_Scripting_for_Computational_Science_3rd_edition](https://drive.google.com/file/d/0BxoOXsn2EUNIZTNsT2RYUTloZzQ/view?usp=sharing)<br/>\n",
    "[6] [Python programming standards](http://docs.python-guide.org/en/latest/) Repository: https://github.com/kennethreitz/python-guide)<br/>\n",
    "[7] [Lecture notes Course Numerical Analysis (MatLab)](http://pages.cs.wisc.edu/~amos/412/lecture-notes/)<br/>\n",
    "[8] Jupyter+Python: [Python in Science](http://www.physics.nyu.edu/pine/pymanual/html/)<br/>\n",
    "[9] Jupyter+Python: Python for Computational Science and Engineering [PDF](http://www.southampton.ac.uk/~fangohr/teaching/python/book/Python-for-Computational-Science-and-Engineering.pdf) [Notebooks](http://www.southampton.ac.uk/~fangohr/teaching/python/book/ipynb/)<br/>\n",
    "[10] Jupyter+Python: [Scientific Computing and Simulation ](http://sam-dolan.staff.shef.ac.uk/mas212)"
   ]
  },
  {
   "cell_type": "markdown",
   "metadata": {
    "collapsed": true
   },
   "source": [
    "# Appendix\n",
    "General configuration modules. It is recommended to use the following _magic_ command to load all the plotting capabilities of python (also load `numpy as np`) and `display`"
   ]
  },
  {
   "cell_type": "code",
   "execution_count": 9,
   "metadata": {},
   "outputs": [
    {
     "name": "stdout",
     "output_type": "stream",
     "text": [
      "Populating the interactive namespace from numpy and matplotlib\n"
     ]
    }
   ],
   "source": [
    "%pylab inline"
   ]
  },
  {
   "cell_type": "markdown",
   "metadata": {},
   "source": [
    "Some times it is convenient to have advance display capabilities in the evaluation cells. It is possible with the module [`Ipython.display`](http://ipython.readthedocs.io/en/stable/api/generated/IPython.display.html). To have multiple special outputs in the same cell, it is necessary to use the `display` function loaded with `%pylab inline`"
   ]
  },
  {
   "cell_type": "code",
   "execution_count": 10,
   "metadata": {
    "collapsed": true
   },
   "outputs": [],
   "source": [
    "from IPython.display import Math, Latex, HTML, JSON , Markdown, YouTubeVideo"
   ]
  },
  {
   "cell_type": "code",
   "execution_count": 13,
   "metadata": {},
   "outputs": [
    {
     "data": {
      "text/html": [
       "<h1>Hola mundo</h1>"
      ],
      "text/plain": [
       "<IPython.core.display.HTML object>"
      ]
     },
     "execution_count": 13,
     "metadata": {},
     "output_type": "execute_result"
    }
   ],
   "source": [
    "HTML('<h1>Hola mundo</h1>')"
   ]
  },
  {
   "cell_type": "code",
   "execution_count": 14,
   "metadata": {},
   "outputs": [
    {
     "data": {
      "text/html": [
       "<h1>Hola mundo</h1>"
      ],
      "text/plain": [
       "<IPython.core.display.HTML object>"
      ]
     },
     "metadata": {},
     "output_type": "display_data"
    },
    {
     "data": {
      "text/latex": [
       "$$ \\int \\sin x\\, d x$$"
      ],
      "text/plain": [
       "<IPython.core.display.Math object>"
      ]
     },
     "metadata": {},
     "output_type": "display_data"
    },
    {
     "name": "stdout",
     "output_type": "stream",
     "text": [
      "multiple and mixed print with display(..)\n"
     ]
    }
   ],
   "source": [
    "display( HTML('<h1>Hola mundo</h1>') ) \n",
    "display( Math(' \\int \\sin x\\, d x') )\n",
    "print('multiple and mixed print with display(..)')"
   ]
  },
  {
   "cell_type": "markdown",
   "metadata": {},
   "source": [
    "LaTeX is fully supported (see: https://stackoverflow.com/a/44375719/2268280)"
   ]
  },
  {
   "cell_type": "markdown",
   "metadata": {},
   "source": [
    "## Requirements\n",
    "* Modules installed with pip(3)"
   ]
  },
  {
   "cell_type": "code",
   "execution_count": 2,
   "metadata": {},
   "outputs": [
    {
     "name": "stdout",
     "output_type": "stream",
     "text": [
      "Writing requirements.txt\n"
     ]
    }
   ],
   "source": [
    "%%writefile requirements.txt\n",
    "sympy\n",
    "ipywidgets"
   ]
  },
  {
   "cell_type": "code",
   "execution_count": 3,
   "metadata": {},
   "outputs": [
    {
     "name": "stdout",
     "output_type": "stream",
     "text": [
      "Writing postBuild\n"
     ]
    }
   ],
   "source": [
    "%%writefile postBuild\n",
    "jupyter nbextension enable --py widgetsnbextension"
   ]
  },
  {
   "cell_type": "markdown",
   "metadata": {},
   "source": [
    "* Special modules\n",
    "[HOWTO: Install JSAnimation for IPython Notebook](https://gist.github.com/gforsyth/188c32b6efe834337d8a)\n",
    "```bash\n",
    "git clone https://github.com/jakevdp/JSAnimation.git\n",
    "cd JSAnimation\n",
    "python3 setup.py install\n",
    "python setup.py install\n",
    "```"
   ]
  },
  {
   "cell_type": "markdown",
   "metadata": {
    "collapsed": true
   },
   "source": [
    "# Recomended libraries for final projects\n",
    "* [Vpython-jupyter](https://github.com/BruceSherwood/vpython-jupyter) See [demo.ipynb](./demo.ipynb)\n",
    "* [bullet3](https://github.com/restrepo/bullet3)\n",
    "* [Pydstool](https://github.com/robclewley/pydstool)"
   ]
  },
  {
   "cell_type": "code",
   "execution_count": null,
   "metadata": {},
   "outputs": [],
   "source": []
  }
 ],
 "metadata": {
  "kernelspec": {
   "display_name": "Python 3",
   "language": "python",
   "name": "python3"
  },
  "language_info": {
   "codemirror_mode": {
    "name": "ipython",
    "version": 3
   },
   "file_extension": ".py",
   "mimetype": "text/x-python",
   "name": "python",
   "nbconvert_exporter": "python",
   "pygments_lexer": "ipython3",
   "version": "3.5.2"
  },
  "toc": {
   "colors": {
    "hover_highlight": "#DAA520",
    "running_highlight": "#FF0000",
    "selected_highlight": "#FFD700"
   },
   "moveMenuLeft": true,
   "nav_menu": {
    "height": "207px",
    "width": "252px"
   },
   "navigate_menu": true,
   "number_sections": true,
   "sideBar": true,
   "threshold": 4,
   "toc_cell": false,
   "toc_section_display": "block",
   "toc_window_display": false
  }
 },
 "nbformat": 4,
 "nbformat_minor": 2
}
