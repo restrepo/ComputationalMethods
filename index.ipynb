{
 "cells": [
  {
   "cell_type": "markdown",
   "metadata": {
    "colab_type": "text",
    "id": "view-in-github"
   },
   "source": [
    "<a href=\"https://colab.research.google.com/github/restrepo/ComputationalMethods/blob/master/index.ipynb\" target=\"_parent\"><img src=\"https://colab.research.google.com/assets/colab-badge.svg\" alt=\"Open In Colab\"/></a>"
   ]
  },
  {
   "cell_type": "markdown",
   "metadata": {
    "colab_type": "text",
    "id": "SzxkJX78nwR8"
   },
   "source": [
    "To open in Colab use the previous button or replace in the address bar:\n",
    "```\n",
    "github.com → colab.research.google.com/github\n",
    "```\n",
    "\n",
    "Computational Methods for Physics & Astronomy\n",
    "===================================\n",
    "\n",
    "## <span style=\"color:red\">Book version:</span>\n",
    "https://restrepo.github.io/ComputationalMethods/\n",
    "\n",
    "by: **Sebastian Bustamante** *2014/2015* **Diego Restrepo** 2017...\n",
    "\n",
    "![](https://raw.githubusercontent.com/sbustamante/ComputationalMethods/master/material/figures/Collage.png)\n",
    "\n",
    "This course is intended for students of Astronomy and Physics at the Universidad de Antioquia \n",
    "and will cover some numerical methods commonly used in science and specially in physics ans astronomy. These topics will be addressed from a formal context but also keeping \n",
    "a practical and computational approach, illustrating many useful applications in\n",
    "problems of physics and astronomy.\n",
    "\n",
    "\n",
    "The practical component will be almost entirely developed in *Python* and \n",
    "slightly less in *C* (when computational performance is required). \n",
    "However students with knowledge in other programming languages (except\n",
    "privative languages like MatLab, Mathematica) are also aimed to use them.\n",
    "\n",
    "\n",
    "In this repository it can be found all the related material of the course, \n",
    "including the detailed program, notes and presentations, examples (ipython \n",
    "notebooks) and homeworks. (This repository may be subject to changes continuously \n",
    "as the course advances).\n",
    "\n",
    "## Instructions to use the repository\n",
    "* Use the Colab button to open the reposotry in an executable enviroment\n",
    "* To save changes: \n",
    " 1. `File` → `Download .ipynb`\n",
    " 2. Open a repository in GitHub and Upload the file\n",
    " 3. To open again in Colab replace in the address bar: `github.com → colab.research.google.com/github` \n",
    "\n",
    "\n",
    "\n",
    "[**SYLLABUS**](https://github.com/sbustamante/ComputationalMethods/raw/master/syllabus/Programa_M%C3%A9todos_Computacionales.pdf):\n",
    "detailed description of the program of the course, including a brief motivation and presentation, \n",
    "topics to be covered, evaluation and bibliography.\n",
    "\n",
    "\n",
    "Contents\n",
    "--------\n",
    "\n",
    "### 1. **Python** *(1 week)*\n",
    "    \n",
    "**Topics**\n",
    "\n",
    "- [Git usage](./material/Syncing_fork.ipynb)\n",
    "\n",
    "_Processing_\n",
    "\n",
    "- [Overview of python](./material/overview-python.ipynb) [[View]](https://github.com/restrepo/ComputationalMethods/blob/master./material/overview-python.ipynb) <!-- href=\"\" target=\"_parent\">-->\n",
    "- [Implementation of scientific libraries](./material/scientific-libraries.ipynb) [[View]](https://github.com/restrepo/ComputationalMethods/blob/master/material/scientific-libraries.ipynb)\n",
    "<!-- - [Basic scripting](./material/basic-scripting.ipynb)-->\n",
    "\n",
    "_Data analysis_\n",
    "\n",
    "- [Pandas](./material/Pandas.ipynb)\n",
    "\n",
    "_Visualization_\n",
    "\n",
    "- [Plotting with matplotlib](./material/matplotlib.ipynb)\n",
    "- [Ipython notebooks](./material/ipython-notebooks.ipynb)\n",
    "\n",
    "**Activities**\n",
    "- *Activity 01:* Solve the problems in the section [Exercises](./material/Basic_exercises.ipynb). \n",
    "\n",
    "### 2. **Mathematical Preliminaries** *(1 week)*\n",
    "    \n",
    "**Topics**\n",
    "\n",
    "- [Computer arithmetics and round-off methods](./material/computer-arithmetics.ipynb)\n",
    "- [Algorithms and convergence](./material/algorithms-convergence.ipynb)\n",
    "- [Optimization](./material/numba.ipynb)\n",
    "\n",
    "### 3. **One Variable Equations** *(2 weeks)*\n",
    "    \n",
    "./one-variable-equations.ipynb\n",
    "**Topics**\n",
    "- [Bisection method](./material/one-variable-equations.ipynb#Bisection-Method)\n",
    "- [Fixed-point iteration](./material/one-variable-equations-fixed-point.ipynb#Fixed-point-Iteration)\n",
    "- [Newton-Raphson method](./material/one-variable-equations-fixed-point.ipynb#Newton-Raphson-Method)\n",
    "- [Secant method](./material/one-variable-equations-fixed-point.ipynb#Secant-Method)\n",
    "\n",
    "\n",
    "### 4. **Interpolation Techniques** *(2 weeks)*\n",
    "    \n",
    "**Topics**\n",
    "- [Linear interpolation](./material/interpolation.ipynb#Linear-Interpolation) [[View]](https://github.com/restrepo/ComputationalMethods/blob/master/material/interpolation.ipynb#Linear-Interpolation)\n",
    "- [Lagrange polynomials](./material/interpolation.ipynb#Lagrange-Polynomial) [[View]](https://github.com/restrepo/ComputationalMethods/blob/master/material/interpolation.ipynb#Lagrange-Polynomial)\n",
    "- [Divided differences](./material/interpolation_details.ipynb#Divided-Differences) [[View]](https://github.com/restrepo/ComputationalMethods/blob/master/material/interpolation_details.ipynb#Divided-Differences)\n",
    "- [Hermite interpolation](./material/interpolation_details.ipynb#Hermite-Interpolation) [[View]](https://github.com/restrepo/ComputationalMethods/blob/master/material/interpolation_details.ipynb#Hermite-Interpolation)\n",
    "- [Minimization](./material/Minimization.ipynb) [[View]](https://github.com/restrepo/ComputationalMethods/blob/master/material/Minimization.ipynb)\n",
    "\n",
    "### 5. **Numerical Calculus** *(2 weeks)*\n",
    "    \n",
    "**Topics**\n",
    "- [Numerical differentiation](./material/numerical-calculus.ipynb#Numerical-Differentiation)\n",
    "- [Numerical integration](./material/numerical-calculus-integration.ipynb#Numerical-Integration)\n",
    "- [Composite numerical integration](./material/numerical-calculus-integration.ipynb#Composite-Numerical-Integration)\n",
    "- [Adaptive quadrature methods](./material/numerical-calculus-integration.ipynb#Adaptive-Quadrature-Methods)\n",
    "- [Improper integrals](./material/numerical-calculus-integration.ipynb#Improper-Integrals)\n",
    "\n",
    "**Activities**\n",
    "- *Activity:* [ Derivative exercise ](./activities/T-profile-bar.ipynb)\n",
    "\n",
    "### 6. **Linear Algebra** *(2 weeks)*\n",
    "    \n",
    "**Topics**\n",
    "- [Gaussian elimination](./material/linear-algebra.ipynb#Gaussian-Elimination)\n",
    "- [Linear systems of equations](./material/linear-algebra.ipynb#Linear-Systems-of-Equations) [[View]](https://github.com/restrepo/ComputationalMethods/blob/master/material/linear-algebra.ipynb#Linear-Systems-of-Equations)\n",
    "- [Pivoting strategies](./material/linear-algebra.ipynb#Pivoting-Strategies)\n",
    "- [Matrix inversion](./material/linear-algebra.ipynb#Matrix-Inversion)\n",
    "- [Determinant of a Matrix](./material/linear-algebra.ipynb#Determinant-of-a-Matrix)\n",
    "- [LU factorization](./material/linear-algebra.ipynb#LU-Factorization)\n",
    "\n",
    "### 7. **Differential Equations** *(2 weeks)*\n",
    "    \n",
    "**Topics**\n",
    "- [First order methods](./material/differential-equations.ipynb#First-Order-Methods)\n",
    "- [High order methods](./material/differential-equations.ipynb#High-Order-Methods)\n",
    "- [Two-Point boundary value problems](./material/differential-equations.ipynb#Two-Point-Boundary-Value-Problems)\n",
    "\n",
    "### 8. **Statistics** *(1 week)*\n",
    "\n",
    "**Topics**\n",
    "- [Data adjust](./material/statistics.ipynb)\n",
    "- [Random Numbers](./material/statistics.ipynb#Random-Numbers)\n",
    "\n",
    "### 9. **Extra material** *(1 session)*\n",
    "\n",
    "**Topics**\n",
    "- [Online IDE](https://repl.it/)\n",
    "- [Clases](./material/Intro_clases.ipynb)\n",
    "- [C++](./material/cpp.ipynb)"
   ]
  },
  {
   "cell_type": "markdown",
   "metadata": {
    "colab_type": "text",
    "id": "pK5LAKa9nwSE"
   },
   "source": [
    "## Bibliography\n",
    "[1a] Gonzalo Galiano Casas, Esperanza García Gonzalo [Numerical Computation](https://www.unioviedo.es/compnum/expositive/handbook/metnum.pdf) - [GD](https://drive.google.com/file/d/1gwHYLx5aBf3oXRhmGeG-n1toTtAUhvfX/view?usp=sharing) - [Web page with notebooks](https://www.unioviedo.es/compnum/index.php/english-menu)<br/>\n",
    "[1b] [Scipy Lecture Notes](https://scipy-lectures.org/) [[PDF]](https://scipy-lectures.org/_downloads/ScipyLectures-simple.pdf)<br/>\n",
    "[1b] [Jensen, Computational_Physics](https://drive.google.com/file/d/0BxoOXsn2EUNIekRUMFVPYXVsSTg/view?usp=sharing).  [GitHub](https://github.com/mhjensen) <br/>\n",
    "[1d] [Introduction to computational physics](http://astro.physics.ncsu.edu/urca/course_files)<br/>\n",
    "[1e] Thomas J. Sargent John Stachurski, [Python Programming for Quantitative Economics](https://python-programming.quantecon.org) \n",
    "[GitHub](https://github.com/QuantEcon/lecture-python-programming.notebooks)<br/>\n",
    "[1f] Ani Adhikari and John DeNero, [Computational and Inferential Thinking](https://www.inferentialthinking.com/chapters/intro.html)<br/>\n",
    "[1g] Mo Mu, [MATH 3311: Introduction to Numerical Methods](https://www.math.ust.hk/~mamu/courses/230/course.htm) [GD](https://drive.google.com/drive/folders/1vv38SS7Zpw8mOHG7Kq_3lZr6o9H4xOYP?usp=sharing)<br/>\n",
    "[1h] Zhiliang Xu, [ACMS 40390: Fall 2016 - Numerical Analysis](https://www3.nd.edu/~zxu2/ACMS40390-F16.html) [GD](https://drive.google.com/drive/folders/1Z9Fws1v34PuPdGAp_mBCWmTvZM_Qd6Xk?usp=sharing)</br>\n",
    "[1f] Computational Physiscs, University of Toronto [https://computation.physics.utoronto.ca/](https://computation.physics.utoronto.ca/) <br/>\n",
    "[1g] Simon Sirca, Computational Methods for Physicists [GD](https://drive.google.com/file/d/1Yg19RBSe0ifGCn2J-9J5kiY990PL6h7i/view?usp=sharing) <br/>\n",
    "[2] [Landau Paez, A Survey of Computational Physics ](https://drive.google.com/file/d/0BxoOXsn2EUNIejJXVEVRUV9DclU/view?usp=sharing)<br/>\n",
    "[3] [Kiusalaas, Numerical Methods in Engineering with Python](https://drive.google.com/file/d/0BxoOXsn2EUNIQUdFVkctR2xWRUk/view?usp=sharing)<br/>\n",
    "[4] [Sørenssen Elementary Mechanics Using Python_ A Modern Course Combining Analytical and Numerical Techniques_](https://drive.google.com/file/d/0BxoOXsn2EUNIVHR4T1BKMEVDX2c/view?usp=sharing)<br/>\n",
    "[5] [Langtangen_Python_Scripting_for_Computational_Science_3rd_edition](https://drive.google.com/file/d/0BxoOXsn2EUNIZTNsT2RYUTloZzQ/view?usp=sharing)<br/>\n",
    "[6] [Python programming standards](http://docs.python-guide.org/en/latest/) Repository: https://github.com/kennethreitz/python-guide)<br/>\n",
    "[7] [Lecture notes Course Numerical Analysis (MatLab)](http://pages.cs.wisc.edu/~amos/412/lecture-notes/)<br/>\n",
    "[8] Jupyter+Python: [Python in Science](http://www.physics.nyu.edu/pine/pymanual/html/)<br/>\n",
    "[9] Jupyter+Python: Python for Computational Science and Engineering [PDF](http://www.southampton.ac.uk/~fangohr/teaching/python/book/Python-for-Computational-Science-and-Engineering.pdf) [Notebooks](http://www.southampton.ac.uk/~fangohr/teaching/python/book/ipynb/)<br/>\n",
    "[10] Jupyter+Python: [Scientific Computing and Simulation ](http://sam-dolan.staff.shef.ac.uk/mas212)<br/>\n",
    "[11] E. Ayres, [Computational Physics With Python](http://bit.ly/CPwPython)<br/>\n",
    "[12] Hans Petter Langtangen [A worked example on scientific computing with Python](https://hplgit.github.io/bumpy/doc/pub/bumpy.pdf)<br/>\n",
    "[12] By Ani Adhikari and John DeNero [Computational and Inferential Thinking](https://www.inferentialthinking.com/)<br/>\n",
    "[13] By Sam Lau, Joey Gonzalez, and Deb Nolan. DS100 Principles and Techniques of Data Science](https://www.textbook.ds100.org/)<br/>\n",
    "[14] Software Design and Development: The Preliminary Course, – January 1, 2002, by Samuel Davis (Author) [[PDF]](https://drive.google.com/file/d/1mq6Mj15VqM62M1cA24WOk60-t1UsKYyE/view?usp=sharing)<br/>\n",
    "[15] Bradley Voytek, _et al_, [Data Science in Practice](https://datascienceinpractice.github.io/)<br/>"
   ]
  },
  {
   "cell_type": "markdown",
   "metadata": {
    "colab_type": "text",
    "id": "LAcGVcJanwSJ"
   },
   "source": [
    "# Appendix\n",
    "General configuration modules. It is recommended to use the following _magic_ command to load all the plotting capabilities of python (also load `numpy as np`) and `display`"
   ]
  },
  {
   "cell_type": "code",
   "execution_count": null,
   "metadata": {
    "colab": {},
    "colab_type": "code",
    "id": "bKyhbSJJnwSP",
    "outputId": "96d4b8c4-6fca-4423-cc28-adfdebb7c367"
   },
   "outputs": [
    {
     "name": "stdout",
     "output_type": "stream",
     "text": [
      "Populating the interactive namespace from numpy and matplotlib\n"
     ]
    }
   ],
   "source": [
    "%pylab inline"
   ]
  },
  {
   "cell_type": "markdown",
   "metadata": {
    "colab_type": "text",
    "id": "3iEG9zwRnwSh"
   },
   "source": [
    "Some times it is convenient to have advance display capabilities in the evaluation cells. It is possible with the module [`Ipython.display`](http://ipython.readthedocs.io/en/stable/api/generated/IPython.display.html). To have multiple special outputs in the same cell, it is necessary to use the `display` function loaded with `%pylab inline`"
   ]
  },
  {
   "cell_type": "code",
   "execution_count": null,
   "metadata": {
    "colab": {},
    "colab_type": "code",
    "id": "QjgmVsHAnwSk"
   },
   "outputs": [],
   "source": [
    "from IPython.display import Math, Latex, HTML, JSON , Markdown, YouTubeVideo"
   ]
  },
  {
   "cell_type": "code",
   "execution_count": null,
   "metadata": {
    "colab": {},
    "colab_type": "code",
    "id": "eVTjdC6DnwSt",
    "outputId": "595abc73-e995-482d-d349-6c13d4114925"
   },
   "outputs": [
    {
     "data": {
      "text/html": [
       "<h1>Hola mundo</h1>"
      ],
      "text/plain": [
       "<IPython.core.display.HTML object>"
      ]
     },
     "execution_count": 13,
     "metadata": {
      "tags": []
     },
     "output_type": "execute_result"
    }
   ],
   "source": [
    "HTML('<h1>Hola mundo</h1>')"
   ]
  },
  {
   "cell_type": "code",
   "execution_count": null,
   "metadata": {
    "colab": {},
    "colab_type": "code",
    "id": "g_a4kToTnwS3",
    "outputId": "a32e5672-923c-43f4-8335-0f1480c6b06d"
   },
   "outputs": [
    {
     "data": {
      "text/html": [
       "<h1>Hola mundo</h1>"
      ],
      "text/plain": [
       "<IPython.core.display.HTML object>"
      ]
     },
     "metadata": {
      "tags": []
     },
     "output_type": "display_data"
    },
    {
     "data": {
      "text/latex": [
       "$$ \\int \\sin x\\, d x$$"
      ],
      "text/plain": [
       "<IPython.core.display.Math object>"
      ]
     },
     "metadata": {
      "tags": []
     },
     "output_type": "display_data"
    },
    {
     "name": "stdout",
     "output_type": "stream",
     "text": [
      "multiple and mixed print with display(..)\n"
     ]
    }
   ],
   "source": [
    "display( HTML('<h1>Hola mundo</h1>') ) \n",
    "display( Math(' \\int \\sin x\\, d x') )\n",
    "print('multiple and mixed print with display(..)')"
   ]
  },
  {
   "cell_type": "markdown",
   "metadata": {
    "colab_type": "text",
    "id": "nvCus-IVnwTA"
   },
   "source": [
    "LaTeX is fully supported (see: https://stackoverflow.com/a/44375719/2268280)"
   ]
  },
  {
   "cell_type": "markdown",
   "metadata": {
    "colab_type": "text",
    "id": "S90GK-FonwTE"
   },
   "source": [
    "## Requirements\n",
    "* Modules installed with pip(3)"
   ]
  },
  {
   "cell_type": "code",
   "execution_count": null,
   "metadata": {
    "colab": {},
    "colab_type": "code",
    "id": "e-UBnxIUnwTI",
    "outputId": "58d179b6-a98e-481a-ac3e-68868ce41d6a"
   },
   "outputs": [
    {
     "name": "stdout",
     "output_type": "stream",
     "text": [
      "Writing requirements.txt\n"
     ]
    }
   ],
   "source": [
    "%%writefile requirements.txt\n",
    "sympy\n",
    "ipywidgets"
   ]
  },
  {
   "cell_type": "code",
   "execution_count": null,
   "metadata": {
    "colab": {},
    "colab_type": "code",
    "id": "Udp5S3RcnwTT",
    "outputId": "c211530c-17c6-41c8-881c-7af39a870710"
   },
   "outputs": [
    {
     "name": "stdout",
     "output_type": "stream",
     "text": [
      "Writing postBuild\n"
     ]
    }
   ],
   "source": [
    "%%writefile postBuild\n",
    "jupyter nbextension enable --py widgetsnbextension"
   ]
  },
  {
   "cell_type": "markdown",
   "metadata": {
    "colab_type": "text",
    "id": "CV2qQwOxnwTf"
   },
   "source": [
    "* Special modules\n",
    "[HOWTO: Install JSAnimation for IPython Notebook](https://gist.github.com/gforsyth/188c32b6efe834337d8a)\n",
    "```bash\n",
    "git clone https://github.com/jakevdp/JSAnimation.git\n",
    "cd JSAnimation\n",
    "python3 setup.py install\n",
    "python setup.py install\n",
    "```"
   ]
  },
  {
   "cell_type": "markdown",
   "metadata": {
    "colab_type": "text",
    "id": "3raJelN8nwTh"
   },
   "source": [
    "# Recomended libraries for final projects\n",
    "* [Vpython-jupyter](https://github.com/BruceSherwood/vpython-jupyter) See [demo.ipynb](./demo.ipynb)\n",
    "* [bullet3](https://github.com/restrepo/bullet3)\n",
    "* [Pydstool](https://github.com/robclewley/pydstool)"
   ]
  },
  {
   "cell_type": "code",
   "execution_count": null,
   "metadata": {},
   "outputs": [],
   "source": []
  }
 ],
 "metadata": {
  "colab": {
   "include_colab_link": true,
   "name": "index.ipynb",
   "provenance": []
  },
  "kernelspec": {
   "display_name": "Python 3",
   "language": "python",
   "name": "python3"
  },
  "language_info": {
   "codemirror_mode": {
    "name": "ipython",
    "version": 3
   },
   "file_extension": ".py",
   "mimetype": "text/x-python",
   "name": "python",
   "nbconvert_exporter": "python",
   "pygments_lexer": "ipython3",
   "version": "3.8.5"
  }
 },
 "nbformat": 4,
 "nbformat_minor": 4
}
