{
 "cells": [
  {
   "cell_type": "markdown",
   "metadata": {},
   "source": [
    "# Statistics "
   ]
  },
  {
   "cell_type": "markdown",
   "metadata": {},
   "source": [
    "Considering the amount of data produced nowadays in many fields, the computer manipulation of this information is not only important but also has become a very active field of study. Despite of the fact of increasing computational facilities, the effort necessary to make statistical analysis has become more complicated, at least in the computational aspect. This is why \n",
    "becomes fundamental to some aspects, leastwise in a raw way.  "
   ]
  },
  {
   "cell_type": "markdown",
   "metadata": {},
   "source": [
    "- - -\n",
    "- [Data Adjust](#Data Adjust) \n",
    "    - [Linear least square](## Linear least squares)\n",
    "    - [Example 1](# Example 1)\n",
    "    - [Non-linear least square](##Non-linear least square)\n",
    "- [Random Numbers](#Random Numbers )  \n",
    "    - [Example 2](#Example 2)\n",
    "- - -"
   ]
  },
  {
   "cell_type": "code",
   "execution_count": 43,
   "metadata": {},
   "outputs": [
    {
     "name": "stdout",
     "output_type": "stream",
     "text": [
      "Populating the interactive namespace from numpy and matplotlib\n"
     ]
    },
    {
     "name": "stderr",
     "output_type": "stream",
     "text": [
      "/usr/local/lib/python3.5/dist-packages/IPython/core/magics/pylab.py:160: UserWarning: pylab import has clobbered these variables: ['colors', 'random']\n",
      "`%matplotlib` prevents importing * from pylab and numpy\n",
      "  \"\\n`%matplotlib` prevents importing * from pylab and numpy\"\n"
     ]
    }
   ],
   "source": [
    "%pylab inline"
   ]
  },
  {
   "cell_type": "code",
   "execution_count": 44,
   "metadata": {},
   "outputs": [],
   "source": [
    "import numpy as np\n",
    "from matplotlib import animation"
   ]
  },
  {
   "cell_type": "markdown",
   "metadata": {},
   "source": [
    "## Data Adjust\n",
    "See also: \n",
    "* http://blog.mmast.net/least-squares-fitting-numpy-scipy\n",
    "* https://stackoverflow.com/a/43623588/2268280"
   ]
  },
  {
   "cell_type": "markdown",
   "metadata": {},
   "source": [
    "Given a data set, the first approach to find a function that passes through the points would be using a\n",
    "interpolation polynomial. But we should take special attention to the way data set is gathered, i.e., usually\n",
    "is a sample obtained experimentally or in a way that has associated an intrinsic error. \n",
    "Then, forcing that the approximate function passes through all the points would actually incur in incrementing the error. This is why it is necessary to build a different procedure to build the function that fits the data.\n",
    "\n",
    "The fitting functions, though, are build using a lagrange polynomial and the order of this polynomial constitutes\n",
    "the approximation that is going to be used. But the fitting function is not going to take the exact value in\n",
    "the known points, they are going to desagree in certain tolerance value. \n",
    "\n",
    "\n",
    "This type of procedure is also used to approximate functions to a simper type of function. Although the procedure\n",
    "is very similar is not going to be include because of the lack of use of it that commonly has.  \n"
   ]
  },
  {
   "cell_type": "markdown",
   "metadata": {},
   "source": [
    "## Linear least squares"
   ]
  },
  {
   "cell_type": "markdown",
   "metadata": {},
   "source": [
    "Approximating a data set to a linear langrange polynomial would be \n",
    "\n",
    "$$\n",
    "y_i= f(x_i) = a_1x_i + a_0\n",
    "$$\n",
    "\n",
    "\n",
    "the problem is that the values $y_i$ are not precise, then it is proposed to find the best approximating\n",
    "\n",
    "line despite of the fact it does not coincide with the data at any point. The best linear approximation in \n",
    "\n",
    "the absolute sense requieres that the values of $a_0$ and $a_1$ would be found to minimize \n",
    "\n",
    "$$\n",
    "E(a_0,a_1) = \\sum_{i=1}^{N}| y_i - (a_1x_i + a_0)|\n",
    "$$\n",
    "\n",
    "\n",
    "To minimize the function of 2 variables it is necessary to set its partial derivatives to zero and simultaneously \n",
    "\n",
    "solve to the resulting equations. But the best procedure for determining best linear approximations is to minimize \n",
    "\n",
    "the sum of the square of the diffences between the y values on the approximating line and the given y values.\n",
    "\n",
    "This is, minimize the next expression with respect to $a_0$ and $a_1$\n",
    "\n",
    "$$\n",
    "E = E(a_0,a_1) = \\sum_{i=1}^{m}[y_i - (a_1 x_i + a_0)]^2 \n",
    "$$\n",
    "\n",
    "\n",
    "i.e., a minimun to occur. Then, it is needed to take the partial derivatives with respect to $a_0$  and $a_1$ and\n",
    "\n",
    "equating them to zero.\n",
    "\n",
    "\n",
    "$$\n",
    "\\frac{\\partial E}{\\partial a_0} = 0 \\hspace{1cm} \n",
    "\\frac{\\partial E}{\\partial a_1} = 0 \n",
    "$$\n",
    "\n",
    "Afterwards, \n",
    "\n",
    "$$\n",
    "0= 2\\sum_{i=1}^{m}(y_i -a_1x_i-a_0)(-1) \\hspace{1.5cm} \n",
    "0 = 2\\sum_{i=1}^{m}(y_i -a_1x_i-a_0)(-x_i) \\\\\n",
    "a_0 m + a_1\\sum_{i=1}^{m}x_i = \\sum_{i=1}^{m} y_i \\hspace{1.5cm} a_0\\sum_{i=1}^{m}x_i  + a_1\\sum_{i=1}^{m}x_i^2 = \\sum_{i=1}^{m} x_iy_i \n",
    "$$\n",
    "\n",
    "where the coefficients $a_0$ and $a_1$ can be easily obtained\n",
    "\n",
    "$$\n",
    "a_0 = \\frac{\\sum_{i=1}^{m} x_i^2\\sum_{i=1}^{m}y_i - \\sum_{i=1}^{m} x_iy_i \\sum_{i=1}^{m} x_i }\n",
    "{m\\sum_{i=1}^{m} x_i^2 - \\left(\\sum_{i=1}^{m} x_i\\right)^2} \\hspace{1.5cm}\n",
    "a_1 = \\frac{m\\sum_{i=1}^{m} x_iy_i^2 - \\sum_{i=1}^{m} x_i \\sum_{i=1}^{m} y_i }\n",
    "{m\\sum_{i=1}^{m} x_i^2 - \\left(\\sum_{i=1}^{m} x_i\\right)^2} \n",
    "$$\n",
    "\n",
    "Now, using the error definition one can find the error associated to the approximation made,\n",
    "\n",
    "since the coefficients $a_0$ and $a_1$ are already known. "
   ]
  },
  {
   "cell_type": "markdown",
   "metadata": {},
   "source": [
    "From [Leat sqaure method in python](https://stackoverflow.com/a/43623588/2268280):\n",
    "\n",
    "> There are many [curve fitting](https://python4mpia.github.io/fitting_data/fitting_data.html) functions in scipy and numpy and each is used differently, e.g. [scipy.optimize.leastsq](https://docs.scipy.org/doc/scipy/reference/generated/scipy.optimize.leastsq.html) and [scipy.optimize.least_squares](https://docs.scipy.org/doc/scipy/reference/generated/scipy.optimize.least_squares.html). For simplicity, we will use [scipy.optimize.curve_fit](https://docs.scipy.org/doc/scipy/reference/generated/scipy.optimize.curve_fit.html), but it is difficult to find an optimized regression curve without selecting reasonable starting parameters. A simple technique will later be demonstrated on selecting starting parameters.\n",
    "\n",
    "In our first example the starting parameters will be just zeros"
   ]
  },
  {
   "cell_type": "markdown",
   "metadata": {},
   "source": [
    "## Example 1"
   ]
  },
  {
   "cell_type": "markdown",
   "metadata": {},
   "source": [
    "A body is moving under the influence of an external force, the variation of the position measured for different \n",
    "times are compiled in table 1 \n",
    "\n",
    "| t(s) | x(m) | v(m/s)         \n",
    "| :------: |:-------------: | :-------:|\n",
    "|0| 2.76 | 33.10\n",
    "| 1.11| 29.66 | 21.33\n",
    "| 2.22|46.83 | 16.57\n",
    "|3.33 | 44.08 |-5.04\n",
    "| 4.44| 37.26| -11.74\n",
    "| 5.55| 12.03| -27.32| \n"
   ]
  },
  {
   "cell_type": "code",
   "execution_count": 74,
   "metadata": {},
   "outputs": [],
   "source": [
    "import pandas as pd"
   ]
  },
  {
   "cell_type": "code",
   "execution_count": 75,
   "metadata": {},
   "outputs": [
    {
     "data": {
      "text/html": [
       "<div>\n",
       "<style>\n",
       "    .dataframe thead tr:only-child th {\n",
       "        text-align: right;\n",
       "    }\n",
       "\n",
       "    .dataframe thead th {\n",
       "        text-align: left;\n",
       "    }\n",
       "\n",
       "    .dataframe tbody tr th {\n",
       "        vertical-align: top;\n",
       "    }\n",
       "</style>\n",
       "<table border=\"1\" class=\"dataframe\">\n",
       "  <thead>\n",
       "    <tr style=\"text-align: right;\">\n",
       "      <th></th>\n",
       "      <th>t</th>\n",
       "      <th>v</th>\n",
       "    </tr>\n",
       "  </thead>\n",
       "  <tbody>\n",
       "    <tr>\n",
       "      <th>0</th>\n",
       "      <td>0.00</td>\n",
       "      <td>33.10</td>\n",
       "    </tr>\n",
       "    <tr>\n",
       "      <th>1</th>\n",
       "      <td>1.11</td>\n",
       "      <td>21.33</td>\n",
       "    </tr>\n",
       "    <tr>\n",
       "      <th>2</th>\n",
       "      <td>2.22</td>\n",
       "      <td>16.57</td>\n",
       "    </tr>\n",
       "    <tr>\n",
       "      <th>3</th>\n",
       "      <td>3.33</td>\n",
       "      <td>-5.04</td>\n",
       "    </tr>\n",
       "    <tr>\n",
       "      <th>4</th>\n",
       "      <td>4.44</td>\n",
       "      <td>-11.74</td>\n",
       "    </tr>\n",
       "    <tr>\n",
       "      <th>5</th>\n",
       "      <td>5.55</td>\n",
       "      <td>-27.32</td>\n",
       "    </tr>\n",
       "  </tbody>\n",
       "</table>\n",
       "</div>"
      ],
      "text/plain": [
       "      t      v\n",
       "0  0.00  33.10\n",
       "1  1.11  21.33\n",
       "2  2.22  16.57\n",
       "3  3.33  -5.04\n",
       "4  4.44 -11.74\n",
       "5  5.55 -27.32"
      ]
     },
     "execution_count": 75,
     "metadata": {},
     "output_type": "execute_result"
    }
   ],
   "source": [
    "#'x': [2.76,  29.66,46.83,44.08,37.26,12.03],\n",
    "df=pd.DataFrame( {'t': [ 0.,  1.11,  2.22,  3.33,  4.44, 5.55],#'x': [2.76,  29.66,46.83,44.08,37.26,12.03],\n",
    "                  'v': [33.10, 21.33, 16.57, -5.04, -11.74, -27.32]} )\n",
    "df[['t','v']]"
   ]
  },
  {
   "cell_type": "code",
   "execution_count": 77,
   "metadata": {},
   "outputs": [
    {
     "data": {
      "text/plain": [
       "[<matplotlib.lines.Line2D at 0x7fa53d16ec10>]"
      ]
     },
     "execution_count": 77,
     "metadata": {},
     "output_type": "execute_result"
    },
    {
     "data": {
      "image/png": "[encoded data removed]",
      "text/plain": [
       "<matplotlib.figure.Figure at 0x7fa4dc6f3c10>"
      ]
     },
     "metadata": {},
     "output_type": "display_data"
    }
   ],
   "source": [
    "plt.plot(df.t,df.v,'ro')"
   ]
  },
  {
   "cell_type": "code",
   "execution_count": 79,
   "metadata": {},
   "outputs": [],
   "source": [
    "import scipy.optimize as optimize"
   ]
  },
  {
   "cell_type": "code",
   "execution_count": 80,
   "metadata": {},
   "outputs": [],
   "source": [
    "def func(t,a1,a0):\n",
    "    return a1*t+a0"
   ]
  },
  {
   "cell_type": "markdown",
   "metadata": {},
   "source": [
    "starting_parameters=[0,0]"
   ]
  },
  {
   "cell_type": "code",
   "execution_count": 82,
   "metadata": {},
   "outputs": [],
   "source": [
    "a,kk=optimize.curve_fit(func,df.t,df.v,p0=starting_parameters)"
   ]
  },
  {
   "cell_type": "code",
   "execution_count": 84,
   "metadata": {},
   "outputs": [
    {
     "data": {
      "text/plain": [
       "array([-10.88597169,  34.69190478])"
      ]
     },
     "execution_count": 84,
     "metadata": {},
     "output_type": "execute_result"
    }
   ],
   "source": [
    "a"
   ]
  },
  {
   "cell_type": "code",
   "execution_count": 87,
   "metadata": {},
   "outputs": [],
   "source": [
    "t_lin=np.linspace(0,5.55)\n",
    "v_model=func(t_lin,*a)\n",
    "df['v_fitted']=func(df.t,*a)"
   ]
  },
  {
   "cell_type": "code",
   "execution_count": 69,
   "metadata": {},
   "outputs": [
    {
     "data": {
      "text/html": [
       "<div>\n",
       "<style>\n",
       "    .dataframe thead tr:only-child th {\n",
       "        text-align: right;\n",
       "    }\n",
       "\n",
       "    .dataframe thead th {\n",
       "        text-align: left;\n",
       "    }\n",
       "\n",
       "    .dataframe tbody tr th {\n",
       "        vertical-align: top;\n",
       "    }\n",
       "</style>\n",
       "<table border=\"1\" class=\"dataframe\">\n",
       "  <thead>\n",
       "    <tr style=\"text-align: right;\">\n",
       "      <th></th>\n",
       "      <th>t</th>\n",
       "      <th>v</th>\n",
       "      <th>v_fitted</th>\n",
       "    </tr>\n",
       "  </thead>\n",
       "  <tbody>\n",
       "    <tr>\n",
       "      <th>0</th>\n",
       "      <td>0.00</td>\n",
       "      <td>33.10</td>\n",
       "      <td>34.691905</td>\n",
       "    </tr>\n",
       "    <tr>\n",
       "      <th>1</th>\n",
       "      <td>1.11</td>\n",
       "      <td>21.33</td>\n",
       "      <td>22.608476</td>\n",
       "    </tr>\n",
       "    <tr>\n",
       "      <th>2</th>\n",
       "      <td>2.22</td>\n",
       "      <td>16.57</td>\n",
       "      <td>10.525048</td>\n",
       "    </tr>\n",
       "    <tr>\n",
       "      <th>3</th>\n",
       "      <td>3.33</td>\n",
       "      <td>-5.04</td>\n",
       "      <td>-1.558381</td>\n",
       "    </tr>\n",
       "    <tr>\n",
       "      <th>4</th>\n",
       "      <td>4.44</td>\n",
       "      <td>-11.74</td>\n",
       "      <td>-13.641810</td>\n",
       "    </tr>\n",
       "    <tr>\n",
       "      <th>5</th>\n",
       "      <td>5.55</td>\n",
       "      <td>-27.32</td>\n",
       "      <td>-25.725238</td>\n",
       "    </tr>\n",
       "  </tbody>\n",
       "</table>\n",
       "</div>"
      ],
      "text/plain": [
       "      t      v   v_fitted\n",
       "0  0.00  33.10  34.691905\n",
       "1  1.11  21.33  22.608476\n",
       "2  2.22  16.57  10.525048\n",
       "3  3.33  -5.04  -1.558381\n",
       "4  4.44 -11.74 -13.641810\n",
       "5  5.55 -27.32 -25.725238"
      ]
     },
     "execution_count": 69,
     "metadata": {},
     "output_type": "execute_result"
    }
   ],
   "source": [
    "df"
   ]
  },
  {
   "cell_type": "code",
   "execution_count": 91,
   "metadata": {},
   "outputs": [
    {
     "data": {
      "image/png": "[encoded data removed]",
      "text/plain": [
       "<matplotlib.figure.Figure at 0x7fa53d259f90>"
      ]
     },
     "metadata": {},
     "output_type": "display_data"
    }
   ],
   "source": [
    "plt.plot(df.t,df.v,'b.',label='exp. data')\n",
    "plt.plot(t_lin,v_model,'g-',lw=2,label=\"Linear adjust\")\n",
    "for i in range(df.t.size):\n",
    "    plt.plot(np.array([df.t[i],df.t[i]]), np.array([df.v[i],df.v_fitted[i] ]),\"c-\")\n",
    "    \n",
    "plt.xlabel( \"$t$ [s]\", fontsize = 18 )\n",
    "plt.ylabel( \"$v$  [m/s]\", fontsize = 18 )\n",
    "plt.title(\"Linear data adjust\")\n",
    "plt.legend()\n",
    "plt.grid(1)    "
   ]
  },
  {
   "cell_type": "markdown",
   "metadata": {},
   "source": [
    "### How does this work:\n",
    "From [Leat sqaure method in python](https://stackoverflow.com/a/43623588/2268280):\n",
    "\n",
    "> [curve_fit]() is one of many optimization functions offered by scipy. Given an initial value, the resulting estimated parameters are iteratively refined so that the resulting curve minimizes the residual error, or difference between the fitted line and sampling data. A better guess reduces the number of iterations and speeds up the result. With these estimated parameters for the fitted curve, one can now calculate the specific coefficients for a particular equation (a final exercise left to the OP)."
   ]
  },
  {
   "cell_type": "code",
   "execution_count": 2,
   "metadata": {},
   "outputs": [],
   "source": [
    "# Finding adjusting parameters \n",
    "def Linear_least_square( x,y ):\n",
    "    \n",
    "    #Finding coefficients \n",
    "    length = len(x)\n",
    "    square_x = np.sum([x[i]**2 for i in xrange(length)])\n",
    "    sum_xy = np.sum([x[i]*y[i] for i in xrange(length)])\n",
    "    sum_x = np.sum(x)\n",
    "    sum_y = np.sum(y)\n",
    "    a0 = ( square_x*sum_y - sum_xy*sum_x ) / ( length*square_x  - sum_x**2 )\n",
    "    a1 = ( length*sum_xy - sum_x*sum_y ) / ( length*square_x  - sum_x**2 )\n",
    "    \n",
    "    #Returning a_0 and a_1 coefficients\n",
    "    return np.array([a0,a1])\n",
    "\n",
    "#Line function adjusting the data set\n",
    "def Line(a0,a1,x):\n",
    "    return a0+a1*x\n"
   ]
  },
  {
   "cell_type": "code",
   "execution_count": 3,
   "metadata": {},
   "outputs": [
    {
     "data": {
      "image/png": "[encoded data removed]",
      "text/plain": [
       "<matplotlib.figure.Figure at 0xb65390ec>"
      ]
     },
     "metadata": {},
     "output_type": "display_data"
    }
   ],
   "source": [
    "#========================================================\n",
    "# Adjusting to a first order polynomy the data set v \n",
    "#========================================================\n",
    "#Setting figure\n",
    "plt.figure( figsize = (8,5) )\n",
    "\n",
    "#Time\n",
    "t = np.array([ 0.,  1.11,  2.22,  3.33,  4.44, 5.55])\n",
    "\n",
    "#Velocities measured for every time t[i]\n",
    "v = np.array([33.10, 21.33, 16.57, -5.04, -11.74, -27.32])\n",
    "\n",
    "#Making data adjust\n",
    "a0, a1 = Linear_least_square( t,v )\n",
    "\n",
    "#Finding error associated to linear approximation\n",
    "E = np.sum([ ( v[i] - Line(a0,a1,t[i]) )**2  for i in xrange(len(t))])\n",
    "\n",
    "#Plotting solution\n",
    "plt.plot( t, Line(a0,a1,t), \".-\", lw = 3.,color = \"green\",label=\"Lineal adjust\" )\n",
    "plt.plot( t, v, \".\",color = \"blue\", label = \"Data set\" )\n",
    "for i in xrange(len(t)):\n",
    "    plt.plot(np.array([t[i],t[i]]), np.array([v[i],Line(a0,a1,t[i])]),\"c-\")\n",
    "    \n",
    "#Format of figure\n",
    "plt.xlabel( \"$t(s)$\", fontsize = 18 )\n",
    "plt.ylabel( \"$v(m/s)$\", fontsize = 18 )\n",
    "plt.xlim( (t[0], t[-1]) )\n",
    "plt.ylim( (v[-1], v[0]) )\n",
    "plt.title(\"Linear data adjust with error %f\"%E)\n",
    "plt.legend()\n",
    "plt.grid(1)"
   ]
  },
  {
   "cell_type": "markdown",
   "metadata": {},
   "source": [
    "## <font color='red'>     **Activity** </font>\n",
    "http://scipy-cookbook.readthedocs.io/items/robust_regression.html"
   ]
  },
  {
   "cell_type": "markdown",
   "metadata": {},
   "source": [
    "<font color='red'>    \n",
    "Using the next data set of a spring mass system, find the lineal adjust. \n",
    "</font>\n",
    "\n",
    "<img src=\"./figures/datos.png\">"
   ]
  },
  {
   "cell_type": "markdown",
   "metadata": {},
   "source": [
    "##Non-linear least square"
   ]
  },
  {
   "cell_type": "markdown",
   "metadata": {},
   "source": [
    "In general, it can be used any polynomial order to adjust a data set, since it is satisfied that $n<m-1$,\n",
    "with n the order of the polynomial and m the number of points known. Then, we have\n",
    "$$\n",
    "P_n(x) = a_nx^n + a_{n-1}x^{n-1}+...+a_1x+a_0\n",
    "$$\n",
    "\n",
    "Using a similar procedure followed in linear least square approximation, it is chose the constants $a_0,...a_n$ to minimize\n",
    "the least square error \n",
    "\n",
    "$$\n",
    "E = \\sum_{i=1}^{m} ( y_i - P_n(x_i) )^2\n",
    "= \\sum_{i=1}^{m} ( y_i - \\sum_{j=0}^{n}a_jx_i^j )^2\n",
    "$$\n",
    "\n",
    "Expanding the square difference and taking into account that E to be minimized requires that $\\partial E/ \n",
    "\\partial a_j = 0 $ for each $j=0,1,...n$. Following these arguments, it is found that the n+1 equations needed\n",
    "to solve to find the coefficients $a_j$ are\n",
    "\n",
    "$$\n",
    "\\sum_{k=0}^{n} a_k \\sum_{i=1}^{m}x_i^{j+k} = \\sum_{i=1}^{m}y_ix_i^j\n",
    "$$\n",
    "\n",
    "for each $j=0,1,...n$. A better way to show the equations, where m is the data length and n is the polynomial\n",
    "order, is \n",
    "\n",
    "$$\n",
    "a_0\\sum_{i=1}^{m}x_i^0 + a_1\\sum_{i=1}^{m}x_i^1 + a_2\\sum_{i=1}^{m}x_i^2 + ... +  a_n\\sum_{i=1}^{m}x_i^n =  \\sum_{i=1}^{m}y_i x_i^0 \\\\\n",
    "a_0\\sum_{i=1}^{m}x_i^1 + a_1\\sum_{i=1}^{m}x_i^2 + a_2\\sum_{i=1}^{m}x_i^3 + ... +  a_n\\sum_{i=1}^{m}x_i^{n+1} =  \\sum_{i=1}^{m}y_i x_i^1\\\\ \n",
    "\\dotsc \\\\\n",
    "a_0\\sum_{i=1}^{m}x_i^n + a_1\\sum_{i=1}^{m}x_i^{n+1} + a_2\\sum_{i=1}^{m}x_i^{n+2} + ... +  a_n\\sum_{i=1}^{m}x_i^{2n} =  \\sum_{i=1}^{m}y_i x_i^n\n",
    "$$\n",
    "\n",
    "Again, the error associated to the approximation can be obtained by initial definition of E. The error can also be defined \n",
    "using a weight function $W_i$ as\n",
    "\n",
    "$$\n",
    "E = \\sum_{i=1}^{m} W_i( y_i - P_n(x_i) )^2\n",
    "$$\n",
    "\n",
    "this function $W_i$ can be defined in several ways. If $W_i = \\sigma_i$, i.e., the standard deviation per particle, it is necessary to know the probability distribution followed by the experiments. In these cases where it is not known,\n",
    "it is usually taken as one. "
   ]
  },
  {
   "cell_type": "markdown",
   "metadata": {},
   "source": [
    "## <font color='red'>     **Activity** </font>"
   ]
  },
  {
   "cell_type": "markdown",
   "metadata": {},
   "source": [
    "<font color='red'> \n",
    "Adjust the position column data in the table 1 to a second order polynomial. What is the acceleration suffered\n",
    "by the body?\n",
    "</font>\n"
   ]
  },
  {
   "cell_type": "markdown",
   "metadata": {},
   "source": [
    "## <font color='red'>     **Activity** </font>\n"
   ]
  },
  {
   "cell_type": "markdown",
   "metadata": {},
   "source": [
    "<font color='red'> \n",
    "The air drag for a sphere that is moving at high speeds can be expresed in the following form \n",
    "$$\n",
    "f_{drag} = -\\frac{1}{2} C \\rho A v^2\n",
    "$$\n",
    "\n",
    "where C is the drag coefficient(0.5 for a sphere), $\\rho$ is the air density (1.29kg/$m^3$) \n",
    "and A is the cross-sectional area. \n",
    "Generate points that have a bias of the value obtanied with\n",
    "$f_{drag}$ using np.random.random. \n",
    "\n",
    "\n",
    "Afterwards, use a second order polynomial to fit the data \n",
    "generated and find the error associated to the approximation. \n",
    "</font>"
   ]
  },
  {
   "cell_type": "code",
   "execution_count": 92,
   "metadata": {},
   "outputs": [],
   "source": [
    "T_values = np.array([222, 284, 308.5, 333, 358, 411, 477, 518, 880, 1080, 1259])\n",
    "C_values = np.array([0.1282, 0.2308, 0.2650, 0.3120 , 0.3547, 0.4530, 0.5556, 0.6154, 0.8932, 0.9103, 0.9316])\n",
    "\n",
    "x_samp = T_values\n",
    "y_samp = C_values "
   ]
  },
  {
   "cell_type": "code",
   "execution_count": 93,
   "metadata": {},
   "outputs": [],
   "source": [
    "def func(x, A, c, d):\n",
    "    return A*np.exp(c*x) + d"
   ]
  },
  {
   "cell_type": "code",
   "execution_count": 96,
   "metadata": {},
   "outputs": [],
   "source": [
    "x_lin = np.linspace(0, x_samp.max(), 50)                   # 50 evenly spaced digits between 0 and max"
   ]
  },
  {
   "cell_type": "code",
   "execution_count": 104,
   "metadata": {},
   "outputs": [
    {
     "data": {
      "text/plain": [
       "1"
      ]
     },
     "execution_count": 104,
     "metadata": {},
     "output_type": "execute_result"
    }
   ],
   "source": [
    "101%20"
   ]
  },
  {
   "cell_type": "code",
   "execution_count": 97,
   "metadata": {},
   "outputs": [
    {
     "name": "stdout",
     "output_type": "stream",
     "text": [
      "('Estimated Parameters', array([-1.66301087, -0.0026884 ,  1.00995394]))\n"
     ]
    },
    {
     "data": {
      "text/plain": [
       "<matplotlib.legend.Legend at 0x7fa53d2dfd50>"
      ]
     },
     "execution_count": 97,
     "metadata": {},
     "output_type": "execute_result"
    },
    {
     "data": {
      "image/png": "[encoded data removed]",
      "text/plain": [
       "<matplotlib.figure.Figure at 0x7fa54f117a10>"
      ]
     },
     "metadata": {},
     "output_type": "display_data"
    }
   ],
   "source": [
    "# REGRESSION ------------------------------------------------------------------\n",
    "p0 = [-1, -3e-3, 1]                                        # guessed params\n",
    "w, _ = optimize.curve_fit(func, x_samp, y_samp, p0=p0)     \n",
    "print(\"Estimated Parameters\", w)  \n",
    "\n",
    "# Model\n",
    "y_model = func(x_lin, *w)\n",
    "\n",
    "# PLOT ------------------------------------------------------------------------\n",
    "# Visualize data and fitted curves\n",
    "plt.plot(x_samp, y_samp, \"ko\", label=\"Data\")\n",
    "plt.plot(x_lin, y_model, \"k--\", label=\"Fit\")\n",
    "plt.title(\"Least squares regression\")\n",
    "plt.legend(loc=\"upper left\")"
   ]
  },
  {
   "cell_type": "code",
   "execution_count": 4,
   "metadata": {},
   "outputs": [
    {
     "name": "stdout",
     "output_type": "stream",
     "text": [
      "90\r"
     ]
    }
   ],
   "source": [
    "import time\n",
    "for i in range(100):\n",
    "    time.sleep(0.1)\n",
    "    if i%10==0:\n",
    "        print(i,end='\\r')"
   ]
  },
  {
   "cell_type": "markdown",
   "metadata": {},
   "source": [
    "# Random Numbers "
   ]
  },
  {
   "cell_type": "markdown",
   "metadata": {},
   "source": [
    "In nature it is not uncommon finding phenomena that are random intrinsic, this is why it becomes a necessity to produce random numbers in order to model such events. But, let us think about the operations that a computer can do, they are done following certain stablished rules, how then can be generated random numbers?  \n",
    "\n",
    "This is achieved until certain point, it is only possible produce pseudo numbers, i.e, numbers obtained following some basic rules. At sequence of numbers apparently random but that are going to repeat after some period. \n",
    "\n",
    "Now, the most basic way to understand the generation of a pseudo-random number consists in following the next recurrence rule that produces integer random numbers\n",
    "\n",
    "$$\n",
    "r_{i+1} = (ar_i+b)\\%N \n",
    "$$\n",
    "\n",
    "$r_i$ is the seed, $a$ and $b$ and $N$ are coefficients chose. Notice that $\\%$ represents the module, then the numbers obtained are going to be smaller than N. \n",
    "\n",
    "Now, consider the case when $ a= 3 $, $b = 2$ and $N = 5$ and the initial seed $r_0 = 3$. The new seed is the number obtained\n",
    "in the last step. "
   ]
  },
  {
   "cell_type": "code",
   "execution_count": 12,
   "metadata": {},
   "outputs": [
    {
     "name": "stdout",
     "output_type": "stream",
     "text": [
      "Random numbers produced using a = 4, b = 1 and N = 9\n",
      "\n",
      "[ 8.  6.  7.  2.  0.  1.  5.  3.  4.  8.  6.  7.  2.  0.  1.]\n"
     ]
    }
   ],
   "source": [
    "import numpy as np\n",
    "# Randon number function \n",
    "def random_number(seed):\n",
    "    return (a*seed + b)%N\n",
    "\n",
    "#Constant values \n",
    "a = 4\n",
    "b = 1\n",
    "N = 9\n",
    "#Amount of random numbers  \n",
    "N_iter = 15\n",
    "rnumber = np.zeros(N_iter+1)\n",
    "#Initial seed\n",
    "rnumber[0] = 49\n",
    "#rnumber[0] = 10\n",
    "\n",
    "for i in range(N_iter): \n",
    "    rnumber[i+1] = random_number( rnumber[i])\n",
    "\n",
    "print (\"Random numbers produced using a = %d, b = %d and N = %d\\n\" % ( a,b,N ))  \n",
    "print (rnumber[1:])   "
   ]
  },
  {
   "cell_type": "code",
   "execution_count": 13,
   "metadata": {},
   "outputs": [],
   "source": [
    "import random"
   ]
  },
  {
   "cell_type": "code",
   "execution_count": 24,
   "metadata": {},
   "outputs": [
    {
     "data": {
      "text/plain": [
       "0.08487199515892163"
      ]
     },
     "execution_count": 24,
     "metadata": {},
     "output_type": "execute_result"
    }
   ],
   "source": [
    "random.random()"
   ]
  },
  {
   "cell_type": "code",
   "execution_count": 25,
   "metadata": {},
   "outputs": [
    {
     "data": {
      "text/plain": [
       "0.9560342718892494"
      ]
     },
     "execution_count": 25,
     "metadata": {},
     "output_type": "execute_result"
    }
   ],
   "source": [
    "x=random.seed(2)\n",
    "random.random()"
   ]
  },
  {
   "cell_type": "code",
   "execution_count": 34,
   "metadata": {},
   "outputs": [
    {
     "data": {
      "text/plain": [
       "array([ 0.78533515,  0.85397529,  0.49423684,  0.84656149,  0.07964548])"
      ]
     },
     "execution_count": 34,
     "metadata": {},
     "output_type": "execute_result"
    }
   ],
   "source": [
    "#np.random.seed(2)\n",
    "np.random.random(5)"
   ]
  },
  {
   "cell_type": "code",
   "execution_count": 36,
   "metadata": {},
   "outputs": [
    {
     "data": {
      "text/plain": [
       "array([ 0.4359949 ,  0.02592623,  0.54966248,  0.43532239,  0.4203678 ])"
      ]
     },
     "execution_count": 36,
     "metadata": {},
     "output_type": "execute_result"
    }
   ],
   "source": [
    "np.random.seed(2)\n",
    "np.random.random(5)"
   ]
  },
  {
   "cell_type": "markdown",
   "metadata": {},
   "source": [
    "Notice that after N random numbers produced the apparently random sequence starts repeating again, i.e., N is the period of the sequence. Then, it is necessary to take N as big as possible but without incuring in an overflow.  What happens when the initial seed is changed?  \n",
    "\n",
    "<img src=\"./figures/random1.png\">\n",
    "\n",
    "To generate random numbers can be used numpy library, specifically the set functions random. There is also another library\n",
    "used random, but it contains few functions comparing with numpy. \n",
    "To generate a random number between 0 and 1 initiallizing the seed with the actual time.\n",
    "\n"
   ]
  },
  {
   "cell_type": "code",
   "execution_count": 5,
   "metadata": {},
   "outputs": [
    {
     "data": {
      "text/plain": [
       "0.6935313352397631"
      ]
     },
     "execution_count": 5,
     "metadata": {},
     "output_type": "execute_result"
    }
   ],
   "source": [
    "np.random.seed()\n",
    "np.random.random()"
   ]
  },
  {
   "cell_type": "markdown",
   "metadata": {},
   "source": [
    "To generate a number between  and a number A"
   ]
  },
  {
   "cell_type": "code",
   "execution_count": 37,
   "metadata": {},
   "outputs": [
    {
     "data": {
      "text/plain": [
       "33.03348210038741"
      ]
     },
     "execution_count": 37,
     "metadata": {},
     "output_type": "execute_result"
    }
   ],
   "source": [
    "A = 100. \n",
    "A*np.random.random()"
   ]
  },
  {
   "cell_type": "markdown",
   "metadata": {},
   "source": [
    "To generate a random number between a range -B to B "
   ]
  },
  {
   "cell_type": "code",
   "execution_count": 7,
   "metadata": {},
   "outputs": [
    {
     "data": {
      "text/plain": [
       "-12.581424504749194"
      ]
     },
     "execution_count": 7,
     "metadata": {},
     "output_type": "execute_result"
    }
   ],
   "source": [
    "B = 15\n",
    "B - 2*B*np.random.random()"
   ]
  },
  {
   "cell_type": "code",
   "execution_count": 41,
   "metadata": {},
   "outputs": [
    {
     "data": {
      "text/plain": [
       "array([[ -9.46680403,   8.56005443],\n",
       "       [ 10.61925878,  -0.17289488]])"
      ]
     },
     "execution_count": 41,
     "metadata": {},
     "output_type": "execute_result"
    }
   ],
   "source": [
    "np.random.uniform(-15,15,(2,2))"
   ]
  },
  {
   "cell_type": "markdown",
   "metadata": {},
   "source": [
    "## Example 2"
   ]
  },
  {
   "cell_type": "markdown",
   "metadata": {},
   "source": [
    "### Random walk\n",
    "\n",
    "Start at the origin and take a 2D random walk. It is chosen values for $\\Delta x'$ and $\\Delta y'$ in the range [-1,1].\n",
    "They are normalized so each step is of unit length. "
   ]
  },
  {
   "cell_type": "code",
   "execution_count": 46,
   "metadata": {},
   "outputs": [
    {
     "data": {
      "text/plain": [
       "<matplotlib.legend.Legend at 0x7f5c559b17f0>"
      ]
     },
     "execution_count": 46,
     "metadata": {},
     "output_type": "execute_result"
    },
    {
     "data": {
      "image/png": "[encoded data removed]",
      "text/plain": [
       "<matplotlib.figure.Figure at 0x7f5c559b1780>"
      ]
     },
     "metadata": {},
     "output_type": "display_data"
    }
   ],
   "source": [
    "#Initial positions\n",
    "x0 = 0.\n",
    "y0 = 0.\n",
    "pos = [x0,y0]\n",
    "#Number of random steps\n",
    "N_steps = 1000\n",
    "#Number of random walks\n",
    "N_walks = 3\n",
    "\n",
    "\n",
    "def Random_walk( pos, N ):\n",
    "    \n",
    "    #Initializing the seed\n",
    "    np.random.seed()\n",
    "    \n",
    "    x = np.zeros( N )    \n",
    "    y = np.zeros( N )    \n",
    "\n",
    "    #Initial conditions\n",
    "    x[0] = pos[0]\n",
    "    y[0] = pos[1]\n",
    "    \n",
    "    #Generating random positions\n",
    "    for i in range(1,N_steps):\n",
    "        x[i] = ( np.random.random(  ) - 0.5 )*2 + x[i-1]\n",
    "        y[i] = ( np.random.random(  ) - 0.5 )*2 + y[i-1]\n",
    "    \n",
    "    return x, y\n",
    "    \n",
    "\n",
    "colors = ('b', 'g', 'c', 'r', 'm', 'y', 'k')\n",
    "axisNum = 0\n",
    "plt.figure( figsize = (8,6) )\n",
    "\n",
    "#Plotting random walks\n",
    "for j,c in zip( range(N_walks),colors):\n",
    "    \n",
    "    axisNum += 1\n",
    "    x,y= Random_walk( pos, N_steps )   \n",
    "    color = colors[axisNum % len(colors)]  \n",
    "    plt.plot(x,y,\"v-\", color = color, lw= 0.5, label = \"walk %d\"%(j+1))\n",
    "    \n",
    "\n",
    "plt.title(\"Random walks\")\n",
    "plt.legend()"
   ]
  },
  {
   "cell_type": "markdown",
   "metadata": {},
   "source": [
    "## <font color='red'>     **Activity** </font>"
   ]
  },
  {
   "cell_type": "markdown",
   "metadata": {},
   "source": [
    "<font color='red'> \n",
    "Radioactive decay: Spontaneous decay is a natural process in which a particle, with no external stimulation, decays into other\n",
    "particles. Then, the total amount of particles in a sample decreases with time, so will the number of decays. \n",
    "The probability decay is constant per particle and is given by  \n",
    "\n",
    "$$\n",
    "P = -\\lambda  \n",
    "$$\n",
    "\n",
    "Determin when radioactive decay looks like exponential decay and when it looks stochastic depending on the initial number of particles $N(t)$ .For this, suposse that the decay rate is 0.3$\\times 10^6 s^{-1}$ . Make a logarithmic plot to show the results. \n",
    "</font>"
   ]
  }
 ],
 "metadata": {
  "kernelspec": {
   "display_name": "Python 3",
   "language": "python",
   "name": "python3"
  },
  "language_info": {
   "codemirror_mode": {
    "name": "ipython",
    "version": 3
   },
   "file_extension": ".py",
   "mimetype": "text/x-python",
   "name": "python",
   "nbconvert_exporter": "python",
   "pygments_lexer": "ipython3",
   "version": "3.5.2"
  }
 },
 "nbformat": 4,
 "nbformat_minor": 1
}
