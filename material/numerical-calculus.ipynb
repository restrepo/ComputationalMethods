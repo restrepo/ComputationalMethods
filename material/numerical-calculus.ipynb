{
 "cells": [
  {
   "cell_type": "markdown",
   "metadata": {
    "colab_type": "text",
    "id": "view-in-github"
   },
   "source": [
    "<a href=\"https://colab.research.google.com/github/restrepo/ComputationalMethods/blob/master/material/numerical-calculus.ipynb\" target=\"_parent\"><img src=\"https://colab.research.google.com/assets/colab-badge.svg\" alt=\"Open In Colab\"/></a>"
   ]
  },
  {
   "cell_type": "markdown",
   "metadata": {},
   "source": [
    "# Numerical Calculus"
   ]
  },
  {
   "cell_type": "markdown",
   "metadata": {
    "colab_type": "text",
    "id": "eO3RE1_E1BYj"
   },
   "source": [
    "Throughout this section and the next ones, we shall cover the topic of numerical calculus. Calculus has been identified since ancient times as a powerful toolkit for analysing and handling geometrical problems. Since differential calculus was developed by Newton and Leibniz (in its actual notation), many different applications have been found, at the point that most of the current science is founded on it (e.g. differential and integral equations). Due to the ever increasing complexity of analytical expressions used in physics and astronomy, their usage becomes more and more impractical, and numerical approaches are more than necessary when one wants to go deeper. This issue has been identified since long ago and many numerical techniques have been developed. We shall cover only the most basic schemes, but also providing a basis for more formal approaches.\n",
    "\n",
    "---\n",
    "* [Class activities with CoCalc](https://cocalc.com/projects/a8330cfb-9dfb-442e-9b2b-ba664e31a685/files/numerical-calculus.ipynb?fullscreen=default&session=default)\n",
    "---\n",
    "#### Bibliography\n",
    "* https://github.com/restrepo/Calculus\n",
    "* Thomas J. Sargent John Stachurski, [Python Programming for Quantitative Economics GitHub](https://python-programming.quantecon.org/scipy.html)"
   ]
  },
  {
   "cell_type": "markdown",
   "metadata": {
    "colab_type": "text",
    "id": "zHstPwHZ1BYl"
   },
   "source": [
    "- - -\n",
    "- [Numerical Differentiation](#Numerical-Differentiation) \n",
    "    - [Example 1](#Example-1)\n",
    "    - [(n+1)-point formula](#n+1-point-formula)\n",
    "    - [Endpoint formulas](#Endpoint-formulas)\n",
    "    - [Midpoint formulas](#Midpoint-formulas)\n",
    "- [Numerical Integration](./numerical-calculus-integration.ipynb)    \n",
    "- - -"
   ]
  },
  {
   "cell_type": "code",
   "execution_count": 1,
   "metadata": {
    "colab": {
     "base_uri": "https://localhost:8080/",
     "height": 107
    },
    "colab_type": "code",
    "id": "hcjVuVTO1BYm",
    "outputId": "c40b3faa-983c-4f43-86ac-1cb36961789f"
   },
   "outputs": [
    {
     "name": "stdout",
     "output_type": "stream",
     "text": [
      "%pylab is deprecated, use %matplotlib inline and import the required libraries.\n",
      "Populating the interactive namespace from numpy and matplotlib\n"
     ]
    }
   ],
   "source": [
    "%pylab inline\n",
    "import numpy as np\n",
    "import scipy.interpolate as interp"
   ]
  },
  {
   "cell_type": "markdown",
   "metadata": {
    "colab_type": "text",
    "id": "Yab8XIB91BYu"
   },
   "source": [
    "- - - "
   ]
  },
  {
   "cell_type": "markdown",
   "metadata": {
    "colab_type": "text",
    "id": "t4sf-c691BYu",
    "jp-MarkdownHeadingCollapsed": true,
    "tags": []
   },
   "source": [
    "## Numerical Differentiation"
   ]
  },
  {
   "cell_type": "markdown",
   "metadata": {
    "colab_type": "text",
    "id": "xoc_KCCQ1BYv"
   },
   "source": [
    "According to the formal definition of differentiation, given a function $f(x)$ such that $f(x)\\in C^1[a,b]$, the first order derivative is given by\n",
    "\n",
    "$$\\frac{d}{dx}f(x) = f'(x) = \\lim_{h\\rightarrow 0} \\frac{f(x+h)-f(x)}{h}$$\n",
    "\n",
    "However, when $f(x)$ exhibits a complex form or is a numerical function (only a discrete set of points are known), this expression becomes unfeasible. In spite of this, this formula gives us a very first rough way to calculate numerical derivatives by taking a finite interval $h$, i.e.\n",
    "\n",
    "$$f'(x) \\approx \\frac{f(x+h)-f(x)}{h}$$\n",
    "\n",
    "where the function must be known at least in $x_0$ and $x_1 = x_0+h$, and $h$ should be small enough."
   ]
  },
  {
   "cell_type": "markdown",
   "metadata": {
    "colab_type": "text",
    "id": "wRMWf0971BYw"
   },
   "source": [
    "### Example 1"
   ]
  },
  {
   "cell_type": "markdown",
   "metadata": {
    "colab_type": "text",
    "id": "n9Znyue31BYx"
   },
   "source": [
    "Evaluate the first derivative of the next function using the previous numerical scheme at the point $x_0=2.0$ and using $h=0.5,\\ 0.1,\\  0.05,...$\n",
    "\n",
    "$f(x) = \\sqrt{1+\\cos^2(x)}$\n",
    "\n",
    "Compare with the real function and plot the tangent line using the found values of the slope."
   ]
  },
  {
   "cell_type": "code",
   "execution_count": 7,
   "metadata": {
    "colab": {},
    "colab_type": "code",
    "id": "kTtRKqJf1BYy"
   },
   "outputs": [],
   "source": [
    "from scipy import misc"
   ]
  },
  {
   "cell_type": "markdown",
   "metadata": {
    "colab_type": "text",
    "id": "j-N2UYMH1BY3"
   },
   "source": [
    "It is used as:\n",
    "```python\n",
    "misc.derivative(func, x0, dx=1.0, n=1, args=(), order=3)\n",
    "```\n",
    "__Parameters__<br/>\n",
    "`func` : function →\n",
    "    Input function.<br/>\n",
    "`x0` : float →\n",
    "    The point at which `n`-th derivative is found.<br/>\n",
    "`dx` : float, optional →\n",
    "    Spacing.<br/>\n",
    "`n` : int, optional →\n",
    "    Order of the derivative. Default is 1.<br/>\n",
    "`args` : tuple, optional →\n",
    "    Arguments<br/>\n",
    "`order` : int, optional → \n",
    "    Number of points to use, must be odd.<br/>\n"
   ]
  },
  {
   "cell_type": "code",
   "execution_count": 8,
   "metadata": {
    "colab": {
     "base_uri": "https://localhost:8080/",
     "height": 282
    },
    "colab_type": "code",
    "id": "yCfkx5_y1BY4",
    "outputId": "cccddcf0-5c46-4847-a983-01538e24650f"
   },
   "outputs": [],
   "source": [
    "def f(x):\n",
    "    return np.sqrt( 1+np.cos(x)**2 )\n",
    "x0 = 2"
   ]
  },
  {
   "cell_type": "markdown",
   "metadata": {
    "colab_type": "text",
    "id": "kPSLAADO1BY8"
   },
   "source": [
    "__Activity__: We now check for the impact of the change of the spacing `dx`.  Try from `dx=0.5` and then small values"
   ]
  },
  {
   "cell_type": "code",
   "execution_count": 12,
   "metadata": {},
   "outputs": [
    {
     "data": {
      "text/plain": [
       "-0.7071067811865475"
      ]
     },
     "execution_count": 12,
     "metadata": {},
     "output_type": "execute_result"
    }
   ],
   "source": [
    "eval('np.cos(np.pi)/np.sqrt(2)')"
   ]
  },
  {
   "cell_type": "code",
   "execution_count": 13,
   "metadata": {
    "colab": {
     "base_uri": "https://localhost:8080/",
     "height": 193
    },
    "colab_type": "code",
    "id": "jSd5QoUu1BY9",
    "outputId": "bf03d036-5c20-4de8-fb01-f23dae0327e4"
   },
   "outputs": [
    {
     "name": "stdin",
     "output_type": "stream",
     "text": [
      "dx= 1\n"
     ]
    },
    {
     "name": "stdout",
     "output_type": "stream",
     "text": [
      "0.13526274947015327\n"
     ]
    },
    {
     "name": "stdin",
     "output_type": "stream",
     "text": [
      "dx= 0.1\n"
     ]
    },
    {
     "name": "stdout",
     "output_type": "stream",
     "text": [
      "0.3462499420237386\n"
     ]
    },
    {
     "name": "stdin",
     "output_type": "stream",
     "text": [
      "dx= 0.01\n"
     ]
    },
    {
     "name": "stdout",
     "output_type": "stream",
     "text": [
      "0.3493266965195363\n"
     ]
    },
    {
     "name": "stdin",
     "output_type": "stream",
     "text": [
      "dx= 1e-3\n"
     ]
    },
    {
     "name": "stdout",
     "output_type": "stream",
     "text": [
      "0.34935758881293744\n"
     ]
    },
    {
     "name": "stdin",
     "output_type": "stream",
     "text": [
      "dx= 1e-6\n"
     ]
    },
    {
     "name": "stdout",
     "output_type": "stream",
     "text": [
      "0.3493579009417047\n"
     ]
    }
   ],
   "source": [
    "for i in range(5):\n",
    "    dx=eval(input('dx='))\n",
    "    print( misc.derivative(f,x0,dx=dx) )"
   ]
  },
  {
   "cell_type": "markdown",
   "metadata": {
    "colab_type": "text",
    "id": "CChKCiNR3bEA"
   },
   "source": [
    "Compare with:"
   ]
  },
  {
   "cell_type": "code",
   "execution_count": 14,
   "metadata": {
    "colab": {
     "base_uri": "https://localhost:8080/",
     "height": 34
    },
    "colab_type": "code",
    "id": "4uAHftGy1BZR",
    "outputId": "781b95bc-d31f-483b-d51e-3080bf478fbe"
   },
   "outputs": [
    {
     "data": {
      "text/plain": [
       "0.34935789816614715"
      ]
     },
     "execution_count": 14,
     "metadata": {},
     "output_type": "execute_result"
    }
   ],
   "source": [
    "misc.derivative(f,x0,dx=1E-8)"
   ]
  },
  {
   "cell_type": "markdown",
   "metadata": {},
   "source": [
    "$$f'(x)=-\\frac{\\cos x\\sin x }{\\sqrt{1+\\cos^2x}}$$"
   ]
  },
  {
   "cell_type": "code",
   "execution_count": 15,
   "metadata": {},
   "outputs": [
    {
     "data": {
      "text/plain": [
       "0.3493579008690488"
      ]
     },
     "execution_count": 15,
     "metadata": {},
     "output_type": "execute_result"
    }
   ],
   "source": [
    "fp=lambda x:-np.cos(x)*np.sin(x)/f(x)\n",
    "fp(2)"
   ]
  },
  {
   "cell_type": "code",
   "execution_count": 16,
   "metadata": {},
   "outputs": [],
   "source": [
    "m=misc.derivative(f,x0,dx=1E-6)"
   ]
  },
  {
   "cell_type": "markdown",
   "metadata": {},
   "source": [
    "$$y_0=f(x_0)=m x_0+b$$\n",
    "$$b=f(x_0)-m x_0$$"
   ]
  },
  {
   "cell_type": "code",
   "execution_count": 17,
   "metadata": {},
   "outputs": [],
   "source": [
    "b=f(x0)-m*x0"
   ]
  },
  {
   "cell_type": "code",
   "execution_count": 19,
   "metadata": {},
   "outputs": [
    {
     "data": {
      "text/plain": [
       "Text(0, 0.5, '$f(x) = \\\\sqrt{1+\\\\cos^2(x)}$')"
      ]
     },
     "execution_count": 19,
     "metadata": {},
     "output_type": "execute_result"
    },
    {
     "data": {
      "image/png": "[encoded data removed]",
      "text/plain": [
       "<Figure size 432x288 with 1 Axes>"
      ]
     },
     "metadata": {
      "needs_background": "light"
     },
     "output_type": "display_data"
    }
   ],
   "source": [
    "xmin = 1.6\n",
    "xmax = 2.4\n",
    "x = np.linspace( xmin, xmax, 100 )\n",
    "plt.plot( x, f(x), color=\"black\", label=\"function\", linewidth=1 )\n",
    "plt.plot( x, m*x+b,\"r--\", label=f\"derivative at $x={x0}$\")\n",
    "plt.plot(x0,f(x0),'y*',markersize=10)\n",
    "plt.grid()\n",
    "plt.legend(fontsize=15)\n",
    "plt.xlabel('$x$',size=15)\n",
    "plt.ylabel(r'$f(x) = \\sqrt{1+\\cos^2(x)}$',size=15)"
   ]
  },
  {
   "cell_type": "markdown",
   "metadata": {
    "colab_type": "text",
    "id": "tjUi1m_gJYQf"
   },
   "source": [
    "\n",
    "\n",
    "---\n",
    "\n"
   ]
  },
  {
   "cell_type": "markdown",
   "metadata": {
    "colab_type": "text",
    "id": "7N5o9BA31BZW"
   },
   "source": [
    "###  Implementation of the derivate of the function inside a full range\n",
    "We now generalize the `derivative` function to allow the evaluation of the derivate in a full range of values. It will be designed such that the evaluation in just one point can be still possible. In this way, the new function  can be used as a full replacement of `derivative` function.\n",
    "\n",
    "To implement this function we need three keys ingredients of `python`:\n",
    "1. `try` and `except` python progamming sctructure\n",
    "1. Function definition with generic mandatory and optional arguments\n",
    "1. Conversion of a float function into a vectorized fuction\n",
    "\n",
    "#### `try` and `except` python progamming sctructure\n",
    "First we introduce the `try` and `except` python progamming sctructure, wich is used to bypass one python error. For example a zero dimension array has not a shape attribute, so that the following error, of type `IndexError`, is generated:"
   ]
  },
  {
   "cell_type": "code",
   "execution_count": 20,
   "metadata": {},
   "outputs": [
    {
     "ename": "IndexError",
     "evalue": "tuple index out of range",
     "output_type": "error",
     "traceback": [
      "\u001b[0;31m---------------------------------------------------------------------------\u001b[0m",
      "\u001b[0;31mIndexError\u001b[0m                                Traceback (most recent call last)",
      "Input \u001b[0;32mIn [20]\u001b[0m, in \u001b[0;36m<cell line: 1>\u001b[0;34m()\u001b[0m\n\u001b[0;32m----> 1\u001b[0m \u001b[43m(\u001b[49m\u001b[38;5;241;43m1\u001b[39;49m\u001b[43m,\u001b[49m\u001b[43m)\u001b[49m\u001b[43m[\u001b[49m\u001b[38;5;241;43m1\u001b[39;49m\u001b[43m]\u001b[49m\n",
      "\u001b[0;31mIndexError\u001b[0m: tuple index out of range"
     ]
    }
   ],
   "source": [
    "(1,)[1]"
   ]
  },
  {
   "cell_type": "code",
   "execution_count": 21,
   "metadata": {},
   "outputs": [
    {
     "data": {
      "text/plain": [
       "array(3)"
      ]
     },
     "execution_count": 21,
     "metadata": {},
     "output_type": "execute_result"
    }
   ],
   "source": [
    "np.array(3)"
   ]
  },
  {
   "cell_type": "code",
   "execution_count": 33,
   "metadata": {
    "colab": {
     "base_uri": "https://localhost:8080/",
     "height": 169
    },
    "colab_type": "code",
    "id": "4EA4HauF1BZX",
    "outputId": "c3774744-3f37-471f-9860-53f0419ac71a"
   },
   "outputs": [
    {
     "ename": "IndexError",
     "evalue": "tuple index out of range",
     "output_type": "error",
     "traceback": [
      "\u001b[0;31m---------------------------------------------------------------------------\u001b[0m",
      "\u001b[0;31mIndexError\u001b[0m                                Traceback (most recent call last)",
      "Input \u001b[0;32mIn [33]\u001b[0m, in \u001b[0;36m<cell line: 1>\u001b[0;34m()\u001b[0m\n\u001b[0;32m----> 1\u001b[0m nn\u001b[38;5;241m=\u001b[39m\u001b[43mnp\u001b[49m\u001b[38;5;241;43m.\u001b[39;49m\u001b[43marray\u001b[49m\u001b[43m(\u001b[49m\u001b[38;5;241;43m3\u001b[39;49m\u001b[43m)\u001b[49m\u001b[38;5;241;43m.\u001b[39;49m\u001b[43mshape\u001b[49m\u001b[43m[\u001b[49m\u001b[38;5;241;43m0\u001b[39;49m\u001b[43m]\u001b[49m\n\u001b[1;32m      2\u001b[0m nn\n",
      "\u001b[0;31mIndexError\u001b[0m: tuple index out of range"
     ]
    }
   ],
   "source": [
    "nn=np.array(3).shape[0]\n",
    "nn"
   ]
  },
  {
   "cell_type": "markdown",
   "metadata": {
    "colab_type": "text",
    "id": "4EwENlK51BZa"
   },
   "source": [
    "To bypass that error we use the following code:"
   ]
  },
  {
   "cell_type": "code",
   "execution_count": 81,
   "metadata": {},
   "outputs": [
    {
     "ename": "TypeError",
     "evalue": "object of type 'int' has no len()",
     "output_type": "error",
     "traceback": [
      "\u001b[0;31m---------------------------------------------------------------------------\u001b[0m",
      "\u001b[0;31mTypeError\u001b[0m                                 Traceback (most recent call last)",
      "\u001b[0;32m/tmp/ipykernel_57720/4138546388.py\u001b[0m in \u001b[0;36m<module>\u001b[0;34m\u001b[0m\n\u001b[1;32m      1\u001b[0m \u001b[0mx\u001b[0m\u001b[0;34m=\u001b[0m\u001b[0;36m3\u001b[0m\u001b[0;34m\u001b[0m\u001b[0;34m\u001b[0m\u001b[0m\n\u001b[0;32m----> 2\u001b[0;31m \u001b[0mlen\u001b[0m\u001b[0;34m(\u001b[0m\u001b[0;36m3\u001b[0m\u001b[0;34m)\u001b[0m\u001b[0;34m\u001b[0m\u001b[0;34m\u001b[0m\u001b[0m\n\u001b[0m",
      "\u001b[0;31mTypeError\u001b[0m: object of type 'int' has no len()"
     ]
    }
   ],
   "source": [
    "x=3\n",
    "len(3)"
   ]
  },
  {
   "cell_type": "code",
   "execution_count": 91,
   "metadata": {},
   "outputs": [
    {
     "data": {
      "text/plain": [
       "(0,)"
      ]
     },
     "execution_count": 91,
     "metadata": {},
     "output_type": "execute_result"
    }
   ],
   "source": [
    "np.array([]).shape"
   ]
  },
  {
   "cell_type": "code",
   "execution_count": 46,
   "metadata": {
    "colab": {},
    "colab_type": "code",
    "id": "j0d-XAbO1BZb"
   },
   "outputs": [],
   "source": [
    "x='3' #[2,3] #3 #[2,3], array([])\n",
    "try: \n",
    "    nn=np.array(x).shape[0]\n",
    "except IndexError:\n",
    "    nn=-1"
   ]
  },
  {
   "cell_type": "markdown",
   "metadata": {
    "colab_type": "text",
    "id": "YAJh5KNU1BZg"
   },
   "source": [
    "so that `nn` takes the values assigned in the `except` part:"
   ]
  },
  {
   "cell_type": "code",
   "execution_count": 37,
   "metadata": {
    "colab": {
     "base_uri": "https://localhost:8080/",
     "height": 34
    },
    "colab_type": "code",
    "id": "Syk6hkS11BZg",
    "outputId": "f5dbc48e-6105-4416-b706-f930b9b09b18"
   },
   "outputs": [
    {
     "data": {
      "text/plain": [
       "2"
      ]
     },
     "execution_count": 37,
     "metadata": {},
     "output_type": "execute_result"
    }
   ],
   "source": [
    "nn"
   ]
  },
  {
   "cell_type": "markdown",
   "metadata": {
    "colab_type": "text",
    "id": "XB1PCVJ17GJc"
   },
   "source": [
    "\n",
    "\n",
    "---\n",
    "\n"
   ]
  },
  {
   "cell_type": "markdown",
   "metadata": {
    "colab_type": "text",
    "id": "bJJTeN-O-ZUA"
   },
   "source": [
    "__Activity__: A float has the method `is_integer()` to check if the decimal part is zero. Creates a function `is_integer(x)` which works even in the case that the number is already an integer"
   ]
  },
  {
   "cell_type": "code",
   "execution_count": 49,
   "metadata": {},
   "outputs": [
    {
     "data": {
      "text/plain": [
       "True"
      ]
     },
     "execution_count": 49,
     "metadata": {},
     "output_type": "execute_result"
    }
   ],
   "source": [
    "x=2.\n",
    "x.is_integer()"
   ]
  },
  {
   "cell_type": "code",
   "execution_count": 50,
   "metadata": {
    "colab": {
     "base_uri": "https://localhost:8080/",
     "height": 186
    },
    "colab_type": "code",
    "id": "jr_RHXSO-MMa",
    "outputId": "b1708c38-99a0-4959-b022-59afdf2235ff"
   },
   "outputs": [
    {
     "ename": "AttributeError",
     "evalue": "'int' object has no attribute 'is_integer'",
     "output_type": "error",
     "traceback": [
      "\u001b[0;31m---------------------------------------------------------------------------\u001b[0m",
      "\u001b[0;31mAttributeError\u001b[0m                            Traceback (most recent call last)",
      "Input \u001b[0;32mIn [50]\u001b[0m, in \u001b[0;36m<cell line: 2>\u001b[0;34m()\u001b[0m\n\u001b[1;32m      1\u001b[0m x\u001b[38;5;241m=\u001b[39m\u001b[38;5;241m2\u001b[39m\n\u001b[0;32m----> 2\u001b[0m \u001b[43mx\u001b[49m\u001b[38;5;241;43m.\u001b[39;49m\u001b[43mis_integer\u001b[49m()\n",
      "\u001b[0;31mAttributeError\u001b[0m: 'int' object has no attribute 'is_integer'"
     ]
    }
   ],
   "source": [
    "x=2\n",
    "x.is_integer()"
   ]
  },
  {
   "cell_type": "code",
   "execution_count": 51,
   "metadata": {
    "colab": {
     "base_uri": "https://localhost:8080/",
     "height": 34
    },
    "colab_type": "code",
    "id": "TCUydLpH7VQe",
    "outputId": "0894df44-b441-42ad-e6e5-34287e437dea"
   },
   "outputs": [
    {
     "data": {
      "text/plain": [
       "False"
      ]
     },
     "execution_count": 51,
     "metadata": {},
     "output_type": "execute_result"
    }
   ],
   "source": [
    "x=2.3\n",
    "x.is_integer()"
   ]
  },
  {
   "cell_type": "code",
   "execution_count": 54,
   "metadata": {},
   "outputs": [
    {
     "data": {
      "text/plain": [
       "True"
      ]
     },
     "execution_count": 54,
     "metadata": {},
     "output_type": "execute_result"
    }
   ],
   "source": [
    "isinstance(2,int)"
   ]
  },
  {
   "cell_type": "markdown",
   "metadata": {},
   "source": [
    "Objetos:\n",
    "```\n",
    "str,int,float,list,dict\n",
    "```"
   ]
  },
  {
   "cell_type": "code",
   "execution_count": 55,
   "metadata": {},
   "outputs": [
    {
     "data": {
      "text/plain": [
       "False"
      ]
     },
     "execution_count": 55,
     "metadata": {},
     "output_type": "execute_result"
    }
   ],
   "source": [
    "isinstance(2,list)"
   ]
  },
  {
   "cell_type": "code",
   "execution_count": 58,
   "metadata": {},
   "outputs": [
    {
     "ename": "NameError",
     "evalue": "name 'hola' is not defined",
     "output_type": "error",
     "traceback": [
      "\u001b[0;31m---------------------------------------------------------------------------\u001b[0m",
      "\u001b[0;31mNameError\u001b[0m                                 Traceback (most recent call last)",
      "Input \u001b[0;32mIn [58]\u001b[0m, in \u001b[0;36m<cell line: 1>\u001b[0;34m()\u001b[0m\n\u001b[0;32m----> 1\u001b[0m \u001b[38;5;28;43meval\u001b[39;49m\u001b[43m(\u001b[49m\u001b[38;5;124;43m'\u001b[39;49m\u001b[38;5;124;43mhola\u001b[39;49m\u001b[38;5;124;43m'\u001b[39;49m\u001b[43m)\u001b[49m\n",
      "File \u001b[0;32m<string>:1\u001b[0m, in \u001b[0;36m<module>\u001b[0;34m\u001b[0m\n",
      "\u001b[0;31mNameError\u001b[0m: name 'hola' is not defined"
     ]
    }
   ],
   "source": [
    "eval('hola')"
   ]
  },
  {
   "cell_type": "code",
   "execution_count": 59,
   "metadata": {},
   "outputs": [
    {
     "ename": "SyntaxError",
     "evalue": "unexpected EOF while parsing (<string>, line 1)",
     "output_type": "error",
     "traceback": [
      "Traceback \u001b[0;36m(most recent call last)\u001b[0m:\n",
      "  File \u001b[1;32m~/anaconda3/lib/python3.9/site-packages/IPython/core/interactiveshell.py:3369\u001b[0m in \u001b[1;35mrun_code\u001b[0m\n    exec(code_obj, self.user_global_ns, self.user_ns)\n",
      "\u001b[0;36m  Input \u001b[0;32mIn [59]\u001b[0;36m in \u001b[0;35m<cell line: 1>\u001b[0;36m\u001b[0m\n\u001b[0;31m    eval('hola mundo')\u001b[0m\n",
      "\u001b[0;36m  File \u001b[0;32m<string>:1\u001b[0;36m\u001b[0m\n\u001b[0;31m    hola mundo\u001b[0m\n\u001b[0m         ^\u001b[0m\n\u001b[0;31mSyntaxError\u001b[0m\u001b[0;31m:\u001b[0m unexpected EOF while parsing\n"
     ]
    }
   ],
   "source": [
    "eval('hola mundo')"
   ]
  },
  {
   "cell_type": "code",
   "execution_count": 67,
   "metadata": {
    "colab": {},
    "colab_type": "code",
    "id": "7-R7lC39-PJj"
   },
   "outputs": [],
   "source": [
    "def is_integer(x):\n",
    "    '''\n",
    "    Returns true if x is integer even if x is integer\n",
    "    '''\n",
    "    try:\n",
    "        return x.is_integer()\n",
    "    except AttributeError:\n",
    "        if isinstance(x,int):\n",
    "            return True\n",
    "        elif isinstance(x,str):\n",
    "            try:\n",
    "                #recursive\n",
    "                return is_integer(eval(x))\n",
    "            except (NameError,SyntaxError):\n",
    "                return False\n",
    "        else:\n",
    "            return False\n",
    "\n",
    "## Test the functions for typical cases        \n",
    "assert is_integer(3.)\n",
    "assert is_integer(3.5)==False\n",
    "assert is_integer(3)\n",
    "assert is_integer('3')\n",
    "assert is_integer('3+9+11')\n",
    "assert is_integer('3.5')==False\n",
    "assert is_integer('a')==False\n",
    "assert is_integer('a b')==False\n",
    "assert is_integer('1/2+1/2')\n",
    "assert is_integer([1,3,5])==False\n",
    "assert is_integer({'A':1})==False"
   ]
  },
  {
   "cell_type": "markdown",
   "metadata": {},
   "source": [
    "### Testing"
   ]
  },
  {
   "cell_type": "code",
   "execution_count": 60,
   "metadata": {},
   "outputs": [],
   "source": [
    "assert True"
   ]
  },
  {
   "cell_type": "code",
   "execution_count": 61,
   "metadata": {},
   "outputs": [
    {
     "ename": "AssertionError",
     "evalue": "",
     "output_type": "error",
     "traceback": [
      "\u001b[0;31m---------------------------------------------------------------------------\u001b[0m",
      "\u001b[0;31mAssertionError\u001b[0m                            Traceback (most recent call last)",
      "Input \u001b[0;32mIn [61]\u001b[0m, in \u001b[0;36m<cell line: 1>\u001b[0;34m()\u001b[0m\n\u001b[0;32m----> 1\u001b[0m \u001b[38;5;28;01massert\u001b[39;00m \u001b[38;5;28;01mFalse\u001b[39;00m\n",
      "\u001b[0;31mAssertionError\u001b[0m: "
     ]
    }
   ],
   "source": [
    "assert False"
   ]
  },
  {
   "cell_type": "code",
   "execution_count": 115,
   "metadata": {},
   "outputs": [
    {
     "data": {
      "text/plain": [
       "True"
      ]
     },
     "execution_count": 115,
     "metadata": {},
     "output_type": "execute_result"
    }
   ],
   "source": [
    "assert is_integer(3)"
   ]
  },
  {
   "cell_type": "markdown",
   "metadata": {},
   "source": [
    "`assert` is trivial for `True`"
   ]
  },
  {
   "cell_type": "markdown",
   "metadata": {},
   "source": [
    "`assert` generates an error for `False`"
   ]
  },
  {
   "cell_type": "markdown",
   "metadata": {
    "colab_type": "text",
    "id": "en-iZeiD_jqG"
   },
   "source": [
    "\n",
    "\n",
    "---\n",
    "\n"
   ]
  },
  {
   "cell_type": "markdown",
   "metadata": {},
   "source": [
    "#### Function parameters\n",
    "In python the function can be defined with mandatory and optional arguments"
   ]
  },
  {
   "cell_type": "code",
   "execution_count": 68,
   "metadata": {
    "colab": {},
    "colab_type": "code",
    "id": "5ITeOGi4OkL7"
   },
   "outputs": [],
   "source": [
    "def f(a,b,c=2,d=3):\n",
    "    return a+b-c+d"
   ]
  },
  {
   "cell_type": "markdown",
   "metadata": {},
   "source": [
    "* `a`,`b`: is like a _tuple_ of mandatory arguments → `(a,b)`\n",
    "* `c=2`,`d=3`: is like a _dictionary_ of optional arguments → `{'c':2,'d':3}`"
   ]
  },
  {
   "cell_type": "markdown",
   "metadata": {
    "colab_type": "text",
    "id": "NMDk53KY1BZl"
   },
   "source": [
    "#### Function definition with generic mandatory and optional arguments\n",
    "We need to introduce another important concept about functions. There is a powerfull way to define a function with generic arguments:\n",
    "1. Instead of the mandatory arguments we can use the generic list pointer: `*args`\n",
    "1. Instead of the optional arguments we can use the generic dictionary pointer: `**kwargs`"
   ]
  },
  {
   "cell_type": "code",
   "execution_count": 74,
   "metadata": {
    "colab": {},
    "colab_type": "code",
    "id": "Gqaf6NTq1BZl"
   },
   "outputs": [],
   "source": [
    "def f(*args,**kwargs):\n",
    "    if args:\n",
    "        print('*args is the tuple of mandatory arguments: {}'.format(args))\n",
    "        print('This allows to have a dynamic return according to input:')\n",
    "        return type(args[0])\n",
    "    if kwargs:\n",
    "        print('*kwargs is the dictionary of optional arguments: {}'.format(kwargs))\n",
    "        print('This allows to have a dynamic return according to input:')\n",
    "        return type(list(kwargs.keys())[0]),type(list(kwargs.values())[0])"
   ]
  },
  {
   "cell_type": "markdown",
   "metadata": {
    "colab_type": "text",
    "id": "SjrTYl6LBfqJ"
   },
   "source": [
    "\n",
    "\n",
    "---\n",
    "\n",
    "__Activity__; Check the function with any type of mandatory or optional argument"
   ]
  },
  {
   "cell_type": "markdown",
   "metadata": {
    "colab": {},
    "colab_type": "code",
    "id": "0osOmM-x1BZo"
   },
   "source": [
    "* Check the function without arguments"
   ]
  },
  {
   "cell_type": "code",
   "execution_count": 75,
   "metadata": {},
   "outputs": [],
   "source": [
    "f()"
   ]
  },
  {
   "cell_type": "markdown",
   "metadata": {
    "colab": {},
    "colab_type": "code",
    "id": "DKmpMvlU1BZr"
   },
   "source": [
    "* Check the function with  a mandatory argument"
   ]
  },
  {
   "cell_type": "code",
   "execution_count": 76,
   "metadata": {
    "colab": {},
    "colab_type": "code",
    "id": "KLqJ1S7W1BZt"
   },
   "outputs": [
    {
     "name": "stdout",
     "output_type": "stream",
     "text": [
      "*args is the tuple of mandatory arguments: ('hola mundo',)\n",
      "This allows to have a dynamic return according to input:\n"
     ]
    },
    {
     "data": {
      "text/plain": [
       "str"
      ]
     },
     "execution_count": 76,
     "metadata": {},
     "output_type": "execute_result"
    }
   ],
   "source": [
    "f('hola mundo')"
   ]
  },
  {
   "cell_type": "markdown",
   "metadata": {},
   "source": [
    "* Check the function with several mandatory arguments"
   ]
  },
  {
   "cell_type": "code",
   "execution_count": 77,
   "metadata": {},
   "outputs": [
    {
     "name": "stdout",
     "output_type": "stream",
     "text": [
      "*args is the tuple of mandatory arguments: (2, [1, 2], (1+3j))\n",
      "This allows to have a dynamic return according to input:\n"
     ]
    },
    {
     "data": {
      "text/plain": [
       "int"
      ]
     },
     "execution_count": 77,
     "metadata": {},
     "output_type": "execute_result"
    }
   ],
   "source": [
    "f(2,[1,2],1+3j)"
   ]
  },
  {
   "cell_type": "markdown",
   "metadata": {},
   "source": [
    "* Check the function with several optional arguments"
   ]
  },
  {
   "cell_type": "markdown",
   "metadata": {},
   "source": [
    "* Check the function with one of the optional arguments equal to some list"
   ]
  },
  {
   "cell_type": "code",
   "execution_count": 78,
   "metadata": {
    "colab": {},
    "colab_type": "code",
    "id": "eOETuwIa1BZ1"
   },
   "outputs": [
    {
     "name": "stdout",
     "output_type": "stream",
     "text": [
      "*kwargs is the dictionary of optional arguments: {'d': 3, 'h': [1, 2], 'k': 'kk'}\n",
      "This allows to have a dynamic return according to input:\n"
     ]
    },
    {
     "data": {
      "text/plain": [
       "(str, int)"
      ]
     },
     "execution_count": 78,
     "metadata": {},
     "output_type": "execute_result"
    }
   ],
   "source": [
    "f(d=3,h=[1,2],k='kk')"
   ]
  },
  {
   "cell_type": "markdown",
   "metadata": {},
   "source": [
    "* Check the function with one string as mandatory argument, and with one of the optional arguments equal to some list"
   ]
  },
  {
   "cell_type": "code",
   "execution_count": null,
   "metadata": {
    "colab": {},
    "colab_type": "code",
    "id": "pDiWTY4gB_gg"
   },
   "outputs": [],
   "source": []
  },
  {
   "cell_type": "markdown",
   "metadata": {
    "colab_type": "text",
    "id": "K372aP-a1BZ5"
   },
   "source": [
    "#### Conversion of a float function into a vectorized function\n",
    "An important `numpy` function is:"
   ]
  },
  {
   "cell_type": "markdown",
   "metadata": {
    "colab_type": "text",
    "id": "V6M_B9ek1BZ8"
   },
   "source": [
    "Which convert a function which takes a float as an argument into a new function which que takes `numpy arrays` as an argument. The problem is that the converted function does not longer return a float when the argument is a float:"
   ]
  },
  {
   "cell_type": "markdown",
   "metadata": {},
   "source": [
    "It is used as:\n",
    "```python\n",
    "np.vectorize(pyfunc,...)\n",
    "```\n",
    "\n",
    "__Parameters__:\n",
    "`pyfunc`: A python function or method.\n",
    "\n",
    "..."
   ]
  },
  {
   "cell_type": "code",
   "execution_count": 79,
   "metadata": {},
   "outputs": [
    {
     "data": {
      "text/plain": [
       "0.479425538604203"
      ]
     },
     "execution_count": 79,
     "metadata": {},
     "output_type": "execute_result"
    }
   ],
   "source": [
    "import math as m\n",
    "m.sin(0.5)"
   ]
  },
  {
   "cell_type": "code",
   "execution_count": 80,
   "metadata": {},
   "outputs": [
    {
     "ename": "TypeError",
     "evalue": "must be real number, not list",
     "output_type": "error",
     "traceback": [
      "\u001b[0;31m---------------------------------------------------------------------------\u001b[0m",
      "\u001b[0;31mTypeError\u001b[0m                                 Traceback (most recent call last)",
      "Input \u001b[0;32mIn [80]\u001b[0m, in \u001b[0;36m<cell line: 1>\u001b[0;34m()\u001b[0m\n\u001b[0;32m----> 1\u001b[0m \u001b[43mm\u001b[49m\u001b[38;5;241;43m.\u001b[39;49m\u001b[43msin\u001b[49m\u001b[43m(\u001b[49m\u001b[43m[\u001b[49m\u001b[38;5;241;43m0.5\u001b[39;49m\u001b[43m,\u001b[49m\u001b[38;5;241;43m0.7\u001b[39;49m\u001b[43m]\u001b[49m\u001b[43m)\u001b[49m\n",
      "\u001b[0;31mTypeError\u001b[0m: must be real number, not list"
     ]
    }
   ],
   "source": [
    "m.sin([0.5,0.7])"
   ]
  },
  {
   "cell_type": "code",
   "execution_count": 81,
   "metadata": {},
   "outputs": [
    {
     "data": {
      "text/plain": [
       "array([0.47942554, 0.64421769])"
      ]
     },
     "execution_count": 81,
     "metadata": {},
     "output_type": "execute_result"
    }
   ],
   "source": [
    "import math as m\n",
    "sin=np.vectorize(m.sin)\n",
    "sin([0.5,0.7])"
   ]
  },
  {
   "cell_type": "code",
   "execution_count": 82,
   "metadata": {},
   "outputs": [
    {
     "data": {
      "text/plain": [
       "array(0.47942554)"
      ]
     },
     "execution_count": 82,
     "metadata": {},
     "output_type": "execute_result"
    }
   ],
   "source": [
    "sin(0.5)"
   ]
  },
  {
   "cell_type": "markdown",
   "metadata": {},
   "source": [
    "#### Vectorization of Scipy method `derivative`\n",
    "\n",
    "The problem is that `derivative` only works for one a point"
   ]
  },
  {
   "cell_type": "code",
   "execution_count": 83,
   "metadata": {},
   "outputs": [
    {
     "data": {
      "text/plain": [
       "0.5403023058958567"
      ]
     },
     "execution_count": 83,
     "metadata": {},
     "output_type": "execute_result"
    }
   ],
   "source": [
    "misc.derivative(np.sin,1,dx=1E-6)"
   ]
  },
  {
   "cell_type": "code",
   "execution_count": 84,
   "metadata": {
    "colab": {
     "base_uri": "https://localhost:8080/",
     "height": 312
    },
    "colab_type": "code",
    "id": "rk_Pqwkn1BZ8",
    "outputId": "893e818d-7bdc-4a79-a9a7-61c1c15e82bd"
   },
   "outputs": [
    {
     "ename": "TypeError",
     "evalue": "can only concatenate list (not \"float\") to list",
     "output_type": "error",
     "traceback": [
      "\u001b[0;31m---------------------------------------------------------------------------\u001b[0m",
      "\u001b[0;31mTypeError\u001b[0m                                 Traceback (most recent call last)",
      "Input \u001b[0;32mIn [84]\u001b[0m, in \u001b[0;36m<cell line: 1>\u001b[0;34m()\u001b[0m\n\u001b[0;32m----> 1\u001b[0m \u001b[43mmisc\u001b[49m\u001b[38;5;241;43m.\u001b[39;49m\u001b[43mderivative\u001b[49m\u001b[43m(\u001b[49m\u001b[43mnp\u001b[49m\u001b[38;5;241;43m.\u001b[39;49m\u001b[43msin\u001b[49m\u001b[43m,\u001b[49m\u001b[43m[\u001b[49m\u001b[38;5;241;43m1\u001b[39;49m\u001b[43m,\u001b[49m\u001b[38;5;241;43m1.2\u001b[39;49m\u001b[43m]\u001b[49m\u001b[43m,\u001b[49m\u001b[43mdx\u001b[49m\u001b[38;5;241;43m=\u001b[39;49m\u001b[38;5;241;43m1E-6\u001b[39;49m\u001b[43m)\u001b[49m\n",
      "File \u001b[0;32m~/anaconda3/lib/python3.9/site-packages/scipy/misc/_common.py:144\u001b[0m, in \u001b[0;36mderivative\u001b[0;34m(func, x0, dx, n, args, order)\u001b[0m\n\u001b[1;32m    142\u001b[0m ho \u001b[38;5;241m=\u001b[39m order \u001b[38;5;241m>>\u001b[39m \u001b[38;5;241m1\u001b[39m\n\u001b[1;32m    143\u001b[0m \u001b[38;5;28;01mfor\u001b[39;00m k \u001b[38;5;129;01min\u001b[39;00m \u001b[38;5;28mrange\u001b[39m(order):\n\u001b[0;32m--> 144\u001b[0m     val \u001b[38;5;241m+\u001b[39m\u001b[38;5;241m=\u001b[39m weights[k]\u001b[38;5;241m*\u001b[39mfunc(\u001b[43mx0\u001b[49m\u001b[38;5;241;43m+\u001b[39;49m\u001b[43m(\u001b[49m\u001b[43mk\u001b[49m\u001b[38;5;241;43m-\u001b[39;49m\u001b[43mho\u001b[49m\u001b[43m)\u001b[49m\u001b[38;5;241;43m*\u001b[39;49m\u001b[43mdx\u001b[49m,\u001b[38;5;241m*\u001b[39margs)\n\u001b[1;32m    145\u001b[0m \u001b[38;5;28;01mreturn\u001b[39;00m val \u001b[38;5;241m/\u001b[39m prod((dx,)\u001b[38;5;241m*\u001b[39mn,axis\u001b[38;5;241m=\u001b[39m\u001b[38;5;241m0\u001b[39m)\n",
      "\u001b[0;31mTypeError\u001b[0m: can only concatenate list (not \"float\") to list"
     ]
    }
   ],
   "source": [
    "misc.derivative(np.sin,[1,1.2],dx=1E-6)"
   ]
  },
  {
   "cell_type": "markdown",
   "metadata": {},
   "source": [
    "This is easily fixed with `np.vectorize`"
   ]
  },
  {
   "cell_type": "code",
   "execution_count": 85,
   "metadata": {
    "colab": {
     "base_uri": "https://localhost:8080/",
     "height": 34
    },
    "colab_type": "code",
    "id": "IgFtXQ5Q1BaA",
    "outputId": "0c50a2fc-1f4d-48e8-8b38-355dd3c6f3d4"
   },
   "outputs": [],
   "source": [
    "derivative=np.vectorize(misc.derivative)"
   ]
  },
  {
   "cell_type": "code",
   "execution_count": 86,
   "metadata": {},
   "outputs": [
    {
     "data": {
      "text/plain": [
       "array([0.54030231, 0.36235775])"
      ]
     },
     "execution_count": 86,
     "metadata": {},
     "output_type": "execute_result"
    }
   ],
   "source": [
    "derivative(np.sin,[1,1.2],dx=1E-6)"
   ]
  },
  {
   "cell_type": "code",
   "execution_count": 87,
   "metadata": {
    "colab": {
     "base_uri": "https://localhost:8080/",
     "height": 34
    },
    "colab_type": "code",
    "id": "IcH_mZIU1BaC",
    "outputId": "1f2ea325-9bd6-49c8-9a8b-bfdf1b73f080"
   },
   "outputs": [
    {
     "data": {
      "text/plain": [
       "array(0.54030231)"
      ]
     },
     "execution_count": 87,
     "metadata": {},
     "output_type": "execute_result"
    }
   ],
   "source": [
    "derivative(np.sin,1,dx=1E-6)"
   ]
  },
  {
   "cell_type": "code",
   "execution_count": 88,
   "metadata": {},
   "outputs": [
    {
     "data": {
      "text/plain": [
       "0.5403023058958567"
      ]
     },
     "execution_count": 88,
     "metadata": {},
     "output_type": "execute_result"
    }
   ],
   "source": [
    "misc.derivative(np.sin,1,dx=1E-6)"
   ]
  },
  {
   "cell_type": "markdown",
   "metadata": {
    "colab_type": "text",
    "id": "GgksedR51BaG"
   },
   "source": [
    "### Code for the derivate of the function inside a full range\n",
    "\n",
    "To recover the evaluation of a float into a float we can force the `IndexError` in order to use of the pure `scipy` `derivative` function when a float is given as input. The full implemention combine the three previos ingredients into a very compact pythonic-way function definition as shwon below"
   ]
  },
  {
   "cell_type": "code",
   "execution_count": null,
   "metadata": {},
   "outputs": [],
   "source": [
    "%pylab inline"
   ]
  },
  {
   "cell_type": "code",
   "execution_count": 89,
   "metadata": {
    "colab": {},
    "colab_type": "code",
    "id": "H_IYjZo71BaG"
   },
   "outputs": [],
   "source": [
    "import numpy as np\n",
    "from scipy import misc\n",
    "def derivative(func,x0,**kwargs):\n",
    "    '''\n",
    "    Vectorized replacement of scipy.misc derivative:\n",
    "        from scipy.misc import derivative\n",
    "    For usage check the derivative help, e.g, in jupyter: \n",
    "        from scipy.misc import derivative\n",
    "        derivative?\n",
    "    '''\n",
    "    try:\n",
    "        #x0: can be an array or a list  \n",
    "        nn=np.asarray(x0).shape[0] ## force error if float is used \n",
    "        fp=np.vectorize(misc.derivative)\n",
    "    except IndexError:\n",
    "        fp=misc.derivative\n",
    "        \n",
    "    return fp(func,x0,**kwargs)\n",
    "\n",
    "assert isinstance(derivative(np.sin,1,dx=1E-6),float)"
   ]
  },
  {
   "cell_type": "code",
   "execution_count": 90,
   "metadata": {},
   "outputs": [
    {
     "data": {
      "text/plain": [
       "numpy.int64"
      ]
     },
     "execution_count": 90,
     "metadata": {},
     "output_type": "execute_result"
    }
   ],
   "source": [
    "import numpy as np\n",
    "A=np.array([2])\n",
    "type(A[0])"
   ]
  },
  {
   "cell_type": "code",
   "execution_count": 15,
   "metadata": {},
   "outputs": [
    {
     "data": {
      "text/plain": [
       "numbers.Real"
      ]
     },
     "execution_count": 15,
     "metadata": {},
     "output_type": "execute_result"
    }
   ],
   "source": [
    "numbers.Real"
   ]
  },
  {
   "cell_type": "code",
   "execution_count": 16,
   "metadata": {},
   "outputs": [
    {
     "data": {
      "text/plain": [
       "True"
      ]
     },
     "execution_count": 16,
     "metadata": {},
     "output_type": "execute_result"
    }
   ],
   "source": [
    "import numbers\n",
    "x=2#A[0]\n",
    "isinstance(x, numbers.Real)#numbers.Integral)"
   ]
  },
  {
   "cell_type": "code",
   "execution_count": 91,
   "metadata": {},
   "outputs": [],
   "source": [
    "import numpy as np\n",
    "from scipy import misc\n",
    "def derivative(func,x0,**kwargs):\n",
    "    '''\n",
    "    Vectorized replacement of scipy.misc derivative:\n",
    "        from scipy.misc import derivative\n",
    "    For usage check the derivative help, e.g, in jupyter: \n",
    "        from scipy.misc import derivative\n",
    "        derivative?\n",
    "    '''\n",
    "    try:\n",
    "        #x0: can be an array or a list  \n",
    "        nn=np.asarray(x0).shape[0] ## force error if float is used \n",
    "        fp=np.vectorize(misc.derivative)\n",
    "    except IndexError:\n",
    "        fp=misc.derivative\n",
    "        \n",
    "    return fp(func,x0,**kwargs)\n",
    "\n",
    "assert isinstance(derivative(np.sin,1,dx=1E-6),float)"
   ]
  },
  {
   "cell_type": "markdown",
   "metadata": {
    "colab_type": "text",
    "id": "beuKXTnh1BaJ"
   },
   "source": [
    "which behaves exactly as the `scipy` `derivative` function when a float argument is used:"
   ]
  },
  {
   "cell_type": "code",
   "execution_count": 92,
   "metadata": {
    "colab": {
     "base_uri": "https://localhost:8080/",
     "height": 35
    },
    "colab_type": "code",
    "id": "vG4Av7Pd1BaJ",
    "outputId": "87f847ab-e628-4f43-f3a4-3c5e7a9a389e"
   },
   "outputs": [
    {
     "data": {
      "text/plain": [
       "0.5403023058958567"
      ]
     },
     "execution_count": 92,
     "metadata": {},
     "output_type": "execute_result"
    }
   ],
   "source": [
    "derivative(np.sin,1,dx=1E-6)"
   ]
  },
  {
   "cell_type": "code",
   "execution_count": 95,
   "metadata": {
    "colab": {
     "base_uri": "https://localhost:8080/",
     "height": 35
    },
    "colab_type": "code",
    "id": "474mzOsq1BaN",
    "outputId": "1e4dd5ab-222a-4925-aa60-ccf155edd23c"
   },
   "outputs": [
    {
     "data": {
      "text/plain": [
       "array([0.54030231, 0.0707372 ])"
      ]
     },
     "execution_count": 95,
     "metadata": {},
     "output_type": "execute_result"
    }
   ],
   "source": [
    "derivative(np.sin,[1,1.5],dx=1E-6)"
   ]
  },
  {
   "cell_type": "markdown",
   "metadata": {
    "colab_type": "text",
    "id": "6a3PfPVo1BaR"
   },
   "source": [
    "and as a vectorized function when an array argument is used:"
   ]
  },
  {
   "cell_type": "code",
   "execution_count": 96,
   "metadata": {
    "colab": {
     "base_uri": "https://localhost:8080/",
     "height": 35
    },
    "colab_type": "code",
    "id": "0mJvX1561BaS",
    "outputId": "a0a4d6b6-b319-4dd7-c286-16427adae0f4"
   },
   "outputs": [
    {
     "data": {
      "text/plain": [
       "(0.5403023058958567, 0.0707372017072494)"
      ]
     },
     "execution_count": 96,
     "metadata": {},
     "output_type": "execute_result"
    }
   ],
   "source": [
    "misc.derivative(np.sin,1,dx=1E-6),misc.derivative(np.sin,1.5,dx=1E-6)"
   ]
  },
  {
   "cell_type": "code",
   "execution_count": 97,
   "metadata": {},
   "outputs": [
    {
     "data": {
      "text/plain": [
       "array([0.54030231, 0.0707372 ])"
      ]
     },
     "execution_count": 97,
     "metadata": {},
     "output_type": "execute_result"
    }
   ],
   "source": [
    "derivative(np.sin,[1.,1.5],dx=1E-6)"
   ]
  },
  {
   "cell_type": "code",
   "execution_count": 98,
   "metadata": {
    "colab": {
     "base_uri": "https://localhost:8080/",
     "height": 35
    },
    "colab_type": "code",
    "id": "O63KV62a1BaW",
    "outputId": "84c60609-4259-4672-d03c-dd329c95a01d"
   },
   "outputs": [
    {
     "data": {
      "text/plain": [
       "array([-7.77156117e+08, -1.11022302e+09])"
      ]
     },
     "execution_count": 98,
     "metadata": {},
     "output_type": "execute_result"
    }
   ],
   "source": [
    "derivative(np.sin,[1.,1.5],dx=1E-6,n=4,order=5)"
   ]
  },
  {
   "cell_type": "markdown",
   "metadata": {
    "colab_type": "text",
    "id": "cv9xBqP91BaZ"
   },
   "source": [
    "Let see now the implementation of the `derivate` function as full replacement of the `derivative` function:"
   ]
  },
  {
   "cell_type": "markdown",
   "metadata": {
    "colab_type": "text",
    "id": "KsNQouL31Baa"
   },
   "source": [
    "#### Test\n",
    "Let us check the implementation with the previous function"
   ]
  },
  {
   "cell_type": "code",
   "execution_count": 99,
   "metadata": {
    "colab": {},
    "colab_type": "code",
    "id": "aa56hgqX1Baa"
   },
   "outputs": [],
   "source": [
    "func=lambda x: np.sqrt( 1+np.cos(x)**2 )"
   ]
  },
  {
   "cell_type": "markdown",
   "metadata": {
    "colab_type": "text",
    "id": "XlXohBsG1Bad"
   },
   "source": [
    "but now evaluated for a list of values"
   ]
  },
  {
   "cell_type": "code",
   "execution_count": 100,
   "metadata": {
    "colab": {
     "base_uri": "https://localhost:8080/",
     "height": 35
    },
    "colab_type": "code",
    "id": "dt0fr0XR1Bae",
    "outputId": "ae20a2aa-9d3e-4fbd-b14b-0c3f05bc2ed3"
   },
   "outputs": [
    {
     "data": {
      "text/plain": [
       "array([0.21576117, 0.34935759, 0.41006125])"
      ]
     },
     "execution_count": 100,
     "metadata": {},
     "output_type": "execute_result"
    }
   ],
   "source": [
    "x=[1.8,2,2.2]\n",
    "funcp=derivative(func,x,dx=1E-3)\n",
    "funcp"
   ]
  },
  {
   "cell_type": "markdown",
   "metadata": {
    "colab_type": "text",
    "id": "lVMFkWTC1Bah"
   },
   "source": [
    "For the prevous `X` array:"
   ]
  },
  {
   "cell_type": "code",
   "execution_count": 101,
   "metadata": {
    "colab": {},
    "colab_type": "code",
    "id": "uLAHiUVR1Bah"
   },
   "outputs": [],
   "source": [
    "x0 = 2\n",
    "xmin = 1.6\n",
    "xmax = 2.4\n",
    "\n",
    "x = np.linspace( xmin, xmax, 100 )"
   ]
  },
  {
   "cell_type": "markdown",
   "metadata": {
    "colab_type": "text",
    "id": "RnkFkOUf1Bak"
   },
   "source": [
    "We have:"
   ]
  },
  {
   "cell_type": "code",
   "execution_count": 102,
   "metadata": {
    "colab": {
     "base_uri": "https://localhost:8080/",
     "height": 35
    },
    "colab_type": "code",
    "id": "Ahr4gVsg1Bam",
    "outputId": "96e378e8-ac17-4270-f8d9-ca843205ae43"
   },
   "outputs": [
    {
     "data": {
      "text/plain": [
       "(100,)"
      ]
     },
     "execution_count": 102,
     "metadata": {},
     "output_type": "execute_result"
    }
   ],
   "source": [
    "derivative(func,x,dx=1E-3).shape"
   ]
  },
  {
   "cell_type": "code",
   "execution_count": 103,
   "metadata": {
    "colab": {
     "base_uri": "https://localhost:8080/",
     "height": 304
    },
    "colab_type": "code",
    "id": "vDqThzl01Bau",
    "outputId": "b5c67208-fb78-4fa2-daa5-c79f85d03b09"
   },
   "outputs": [
    {
     "data": {
      "image/png": "[encoded data removed]",
      "text/plain": [
       "<Figure size 432x288 with 1 Axes>"
      ]
     },
     "metadata": {
      "needs_background": "light"
     },
     "output_type": "display_data"
    }
   ],
   "source": [
    "xmin = 1.6\n",
    "xmax = 2.4\n",
    "\n",
    "X = np.linspace( xmin, xmax, 100 )\n",
    "\n",
    "plt.plot( X, func(X) , color=\"black\", label=\"$f(x)$\", linewidth=3)\n",
    "plt.plot( X, derivative(func,X,dx=1E-3), color=\"red\", label=\"$f'(x)$\", linewidth=3)\n",
    "plt.plot( X, derivative(func,X,dx=1E-3,n=2), color=\"blue\", label=\"$f''(x)$\", linewidth=3)\n",
    "plt.legend(loc='best',fontsize=15)\n",
    "plt.xlabel('$x$',size=15)\n",
    "plt.grid()"
   ]
  },
  {
   "cell_type": "markdown",
   "metadata": {
    "colab_type": "text",
    "id": "fJsq3pgq1Bay"
   },
   "source": [
    "#### Example\n",
    "Finally we check the function $f(x)=\\cos x$ in the range $[0,2\\pi]$"
   ]
  },
  {
   "cell_type": "code",
   "execution_count": 106,
   "metadata": {
    "colab": {
     "base_uri": "https://localhost:8080/",
     "height": 302
    },
    "colab_type": "code",
    "id": "v9he6Ob91Baz",
    "outputId": "88af69fd-b4ca-4f4b-8d47-afb418522ab3"
   },
   "outputs": [
    {
     "data": {
      "text/plain": [
       "Text(0.5, 0, '$x$')"
      ]
     },
     "execution_count": 106,
     "metadata": {},
     "output_type": "execute_result"
    },
    {
     "data": {
      "image/png": "[encoded data removed]",
      "text/plain": [
       "<Figure size 432x288 with 1 Axes>"
      ]
     },
     "metadata": {
      "needs_background": "light"
     },
     "output_type": "display_data"
    }
   ],
   "source": [
    "xmin = 0\n",
    "xmax = 2*np.pi\n",
    "\n",
    "X = np.linspace( xmin, xmax, 100 )\n",
    "\n",
    "plt.plot( X, np.cos(X) , \"g-\", label=\"$f(x)=\\cos x$\", linewidth=3)\n",
    "plt.plot( X, derivative(np.cos,X,dx=1E-3), color=\"red\", label=\"$f'(x)$\", linewidth=3)\n",
    "plt.plot( X, -np.sin(X) , 'b:', label=\"$-\\sin x$\", linewidth=3, zorder=10 )\n",
    "plt.plot( X, derivative(np.cos,X,dx=1E-3,n=4,order=5), 'k:', label=\"$f^{(iv)}(x)$\", linewidth=3)\n",
    "plt.legend(loc='best',fontsize=15)\n",
    "plt.xlabel('$x$',size=15)"
   ]
  },
  {
   "cell_type": "code",
   "execution_count": 107,
   "metadata": {
    "colab": {
     "base_uri": "https://localhost:8080/",
     "height": 35
    },
    "colab_type": "code",
    "id": "fPmUiXf6TqK0",
    "outputId": "e3978ea8-4e6c-4d60-add6-8364e39276e5"
   },
   "outputs": [
    {
     "data": {
      "text/plain": [
       "-1.3010426069826051e-06"
      ]
     },
     "execution_count": 107,
     "metadata": {},
     "output_type": "execute_result"
    }
   ],
   "source": [
    "misc.derivative(np.cos,np.pi/2,n=4,dx=1E-3,order=5)"
   ]
  },
  {
   "cell_type": "markdown",
   "metadata": {},
   "source": [
    "__Activity__: Implement the full derivative function by using `isinstance()` instead of `try` and `except` "
   ]
  },
  {
   "cell_type": "code",
   "execution_count": 108,
   "metadata": {},
   "outputs": [],
   "source": [
    "from scipy import misc\n",
    "\n",
    "def derivate(func,x0,**kwargs):\n",
    "    '''\n",
    "    Vectorized replacement of scipy.misc derivative:\n",
    "        from scipy.misc import derivative\n",
    "    For usage check the derivative help, e.g, in jupyter: \n",
    "        from scipy.misc import derivative\n",
    "        derivative?\n",
    "    '''\n",
    "    if isinstance(x0,list): ## or ... or ...\n",
    "        print(x0)\n",
    "        fp=np.vectorize(misc.derivative)\n",
    "    else:\n",
    "        fp=misc.derivative\n",
    "    return fp(func,x0,**kwargs)"
   ]
  },
  {
   "cell_type": "code",
   "execution_count": 109,
   "metadata": {},
   "outputs": [
    {
     "data": {
      "text/plain": [
       "True"
      ]
     },
     "execution_count": 109,
     "metadata": {},
     "output_type": "execute_result"
    }
   ],
   "source": [
    "isinstance( np.array([2,3]),numpy.ndarray )"
   ]
  },
  {
   "cell_type": "code",
   "execution_count": 42,
   "metadata": {},
   "outputs": [
    {
     "data": {
      "text/plain": [
       "array([-0.90929743, -0.14112001])"
      ]
     },
     "execution_count": 42,
     "metadata": {},
     "output_type": "execute_result"
    }
   ],
   "source": [
    "derivate(np.cos,np.array([2,3]),dx=1E-6)"
   ]
  },
  {
   "cell_type": "markdown",
   "metadata": {
    "colab_type": "text",
    "id": "ZyOV6qnu1BbC"
   },
   "source": [
    "### Example: Heat transfer in a 1D bar "
   ]
  },
  {
   "cell_type": "markdown",
   "metadata": {
    "colab_type": "text",
    "id": "mVKIAs3C1BbD"
   },
   "source": [
    "Fourier's Law of thermal conduction describes the diffusion of heat. Situations in which there are gradients of heat, a flux that tends to homogenise the temperature arises as a consequence of collisions of particles within a body. The Fourier's Law is giving by \n",
    "\n",
    "$$ q = -k\\nabla T = -k\\left( \\frac{dT}{dx}\\hat{i} + \\frac{dT}{dy}\\hat{j} + \\frac{dT}{dz}\\hat{k}\\right)$$\n",
    "\n",
    "where T is the temperature, $\\nabla T$ its gradient and k is the material's conductivity. In the next example it is shown the magnitud of the heat flux in a 1D bar(wire)."
   ]
  },
  {
   "cell_type": "code",
   "execution_count": 43,
   "metadata": {
    "colab": {},
    "colab_type": "code",
    "id": "EbScQhDk1BbE"
   },
   "outputs": [],
   "source": [
    "def Temp(x):\n",
    "    return x**3 + 3*x-1"
   ]
  },
  {
   "cell_type": "code",
   "execution_count": 44,
   "metadata": {
    "colab": {},
    "colab_type": "code",
    "id": "aWcqS60O1BbI"
   },
   "outputs": [],
   "source": [
    "Xn = np.linspace(0,10,100)"
   ]
  },
  {
   "cell_type": "code",
   "execution_count": 45,
   "metadata": {
    "colab": {},
    "colab_type": "code",
    "id": "aWrKzI751BbK",
    "outputId": "8db28f4a-cd32-4b31-e12e-ddb8618366b9"
   },
   "outputs": [
    {
     "data": {
      "text/plain": [
       "Text(0.5,1,' Magnitud heat flux transfer in 1D bar')"
      ]
     },
     "execution_count": 45,
     "metadata": {},
     "output_type": "execute_result"
    },
    {
     "data": {
      "image/png": "[encoded data removed]",
      "text/plain": [
       "<Figure size 576x504 with 1 Axes>"
      ]
     },
     "metadata": {
      "needs_background": "light"
     },
     "output_type": "display_data"
    }
   ],
   "source": [
    "#Temperature profile \n",
    "def Temp(x):\n",
    "    return x**3 + 3*x-1\n",
    "\n",
    "## Points where function is known\n",
    "Xn = np.linspace(0,10,100)\n",
    "\n",
    "plt.figure( figsize=(8,7) )\n",
    "plt.plot(Xn,derivate(Temp,Xn)*10)\n",
    "\n",
    "plt.grid()\n",
    "plt.xlabel( \"$x$\",fontsize =15 )\n",
    "plt.ylabel( r\"$\\frac{dT}{dx}$\",fontsize =20 )\n",
    "plt.title( \" Magnitud heat flux transfer in 1D bar\" )"
   ]
  },
  {
   "cell_type": "markdown",
   "metadata": {
    "colab_type": "text",
    "id": "HXUbjyh81BbP"
   },
   "source": [
    "### Activity"
   ]
  },
  {
   "cell_type": "markdown",
   "metadata": {
    "colab_type": "text",
    "id": "0pH9meLR1BbP"
   },
   "source": [
    "Construct a density map of the magnitud of the heat flux of a 2D bar. Consider the temperature profile as \n",
    "$$ T(x,y) = x^3 + 3x-1+y^2  $$"
   ]
  },
  {
   "cell_type": "markdown",
   "metadata": {
    "colab_type": "text",
    "id": "QtPqZYqG1BbU"
   },
   "source": [
    "### Activity\n",
    "\n",
    "    \n",
    "The Poisson's equation relates the matter content of a body with the gravitational potential through the next equation\n",
    "\n",
    "$$\\nabla^2 \\phi = 4\\pi G \\rho$$\n",
    "\n",
    "$$\\frac{1}{r^2}\\frac{d}{dr}\\left(r^2\\frac{d\\phi}{dr}\\right)= 4\\pi G \\rho$$\n",
    "where $\\phi$ is the potential, $\\rho$ the density and $G$ the gravitational constant.\n",
    "\n",
    "\n",
    "Taking [these data](https://raw.githubusercontent.com/sbustamante/ComputationalMethods/master/data/M1.00-STRUC.dat) and using the three-point Midpoint formula, find the density field from the potential (seventh column in the file) and plot it against the radial coordinate. (**Tip:** Use $G=1$)\n",
    "\n"
   ]
  },
  {
   "cell_type": "markdown",
   "metadata": {
    "colab_type": "text",
    "id": "uIC7_pDp1BbU"
   },
   "source": [
    "### Activity"
   ]
  },
  {
   "cell_type": "markdown",
   "metadata": {
    "colab_type": "text",
    "id": "A8vjhE1G1BbU"
   },
   "source": [
    "The radar stations A and B, separated by the distance a = 500 m, track the plane\n",
    "C by recording the angles $\\alpha$ and $\\beta$ at 1-second intervals. The successive readings are \n",
    "\n",
    "<img src=\"https://github.com/restrepo/ComputationalMethods/blob/master/material/figures/table.png?raw=1\">\n"
   ]
  },
  {
   "cell_type": "markdown",
   "metadata": {
    "colab_type": "text",
    "id": "ksiCizBr1BbV"
   },
   "source": [
    "calculate the speed v using the 3 point approximantion at t = 10 ,12 and 14 s. Calculate the x component of the acceleration of the plane at = 12 s. The coordinates of the plane can be shown to be\n",
    "\n",
    "\\begin{equation}\n",
    "x = a\\frac{\\tan \\beta}{\\tan \\beta- \\tan \\alpha}\\\\\n",
    "y = a\\frac{\\tan \\alpha\\tan \\beta}{\\tan \\beta- \\tan \\alpha}\n",
    "\\end{equation}\n",
    "\n",
    "<img src=\"https://github.com/restrepo/ComputationalMethods/blob/master/material/figures/radar.png?raw=1\">\n"
   ]
  },
  {
   "cell_type": "markdown",
   "metadata": {
    "colab_type": "text",
    "id": "K57Qpz9W1BbW"
   },
   "source": [
    "- - -"
   ]
  },
  {
   "cell_type": "markdown",
   "metadata": {
    "colab_type": "text",
    "id": "MR7WLv5v1BbX",
    "tags": []
   },
   "source": [
    "## [Numerical Integration](./numerical-calculus-integration.ipynb)  "
   ]
  },
  {
   "cell_type": "markdown",
   "metadata": {
    "tags": []
   },
   "source": [
    "## Appendix"
   ]
  },
  {
   "cell_type": "markdown",
   "metadata": {
    "colab_type": "text",
    "id": "tZz5pIMR1Ba3"
   },
   "source": [
    "#### One implementation of `derivative` algorithm"
   ]
  },
  {
   "cell_type": "code",
   "execution_count": null,
   "metadata": {
    "colab": {},
    "colab_type": "code",
    "id": "nV7lFSb51Ba5",
    "outputId": "e091b064-928e-4400-b84c-34d62dd98215"
   },
   "outputs": [
    {
     "data": {
      "text/plain": [
       "<matplotlib.legend.Legend at 0x7f2790fe7990>"
      ]
     },
     "execution_count": 5,
     "metadata": {
      "tags": []
     },
     "output_type": "execute_result"
    },
    {
     "data": {
      "image/png": "[encoded data removed]",
      "text/plain": [
       "<matplotlib.figure.Figure at 0x7f2790fe7390>"
      ]
     },
     "metadata": {
      "tags": []
     },
     "output_type": "display_data"
    }
   ],
   "source": [
    "#Function to evaluate\n",
    "def function(x):\n",
    "    return np.sqrt( 1+np.cos(x)**2 )\n",
    "\n",
    "#X value\n",
    "x0 = 2\n",
    "xmin = 1.8\n",
    "xmax = 2.2\n",
    "#h step\n",
    "hs = [0.5,0.1,0.05]\n",
    "\n",
    "#Calculating derivatives\n",
    "dfs = []\n",
    "for h in hs:\n",
    "    dfs.append( (function(x0+h)-function(x0))/h )\n",
    "    \n",
    "#Plotting\n",
    "plt.figure( figsize=(10,8) )\n",
    "#X array\n",
    "X = np.linspace( xmin, xmax, 100 )\n",
    "Y = function(X)\n",
    "plt.plot( X, Y, color=\"black\", label=\"function\", linewidth=3, zorder=10 )\n",
    "#Slopes\n",
    "Xslp = [1,x0,3]\n",
    "Yslp = [0,0,0]\n",
    "for df, h in zip(dfs, hs):\n",
    "    #First point\n",
    "    Yslp[0] = function(x0)+df*(Xslp[0]-Xslp[1])\n",
    "    #Second point\n",
    "    Yslp[1] = function(x0)\n",
    "    #Third point\n",
    "    Yslp[2] = function(x0)+df*(Xslp[2]-Xslp[1])\n",
    "    #Plotting this slope\n",
    "    plt.plot( Xslp, Yslp, linewidth = 2, label=\"slope$=%1.2f$ for $h=%1.2f$\"%(df,h) )\n",
    "\n",
    "#Format\n",
    "plt.grid()\n",
    "plt.xlabel(\"x\")\n",
    "plt.ylabel(\"y\")\n",
    "plt.xlim( xmin, xmax )\n",
    "plt.ylim( 1, 1.15 )\n",
    "plt.legend( loc = \"upper left\" )"
   ]
  },
  {
   "cell_type": "markdown",
   "metadata": {
    "colab_type": "text",
    "id": "lGExPWl81Ba-"
   },
   "source": [
    "### n+1-point formula"
   ]
  },
  {
   "cell_type": "markdown",
   "metadata": {
    "colab_type": "text",
    "id": "EabBBRXA1Ba-"
   },
   "source": [
    "A generalization of the previous formula is given by the (n+1)-point formula, where first-order derivatives are calculated using more than one point, what makes it a much better approximation for many problems. it is controled by the `order` option of the `derivative` function of `scipy.misc`\n",
    "\n",
    "**Theorem**\n",
    "\n",
    "For a function $f(x)$ such that $f(x)\\in C^{n+1}[a,b]$, the next expression is always satisfied\n",
    "\n",
    "$$f(x) = P(x) + \\frac{f^{(n+1)}(\\xi(x))}{(n+1)!}(x-x_0)(x-x_1)\\cdots(x-x_n)$$\n",
    "\n",
    "where $\\{x_i\\}_i$ is a set of point where the function is mapped, $\\xi(x)$ is some function of $x$ such that $\\xi\\in[a,b]$, and $P(x)$ is the associated Lagrange interpolant polynomial.\n",
    "\n",
    "As $n$ becomes higher, the approximation should be better as the error term becomes neglectable."
   ]
  },
  {
   "cell_type": "markdown",
   "metadata": {
    "colab_type": "text",
    "id": "PSgHXywE1Ba-"
   },
   "source": [
    " "
   ]
  },
  {
   "cell_type": "markdown",
   "metadata": {
    "colab_type": "text",
    "id": "lMl1p2Kt1Ba_"
   },
   "source": [
    "Taking the previous expression, and differenciating, we obtain\n",
    "\n",
    "$$f(x) = \\sum_{k=0}^n f(x_k)L_{n,k}(x) + \\frac{(x-x_0)(x-x_1)\\cdots(x-x_n)}{(n+1)!}f^{(n+1)}(\\xi(x))$$\n",
    "\n",
    "$$f'(x_j) = \\sum_{k=0}^n f(x_k)L'_{n,k}(x_j) + \\frac{f^{(n+1)}(\\xi(x_j))}{(n+1)!} \\prod_{k=0,k\\neq j}^{n}(x_j-x_k)$$\n",
    "\n",
    "where $L_{n,k}$ is the $k$-th Lagrange basis functions for $n$ points, $L'_{n,k}$ is its first derivative.\n",
    "\n",
    "Note that the last expressions is evaluated in $x_j$ rather than a general $x$ value, the cause of this is because this expression is not longer valid for another value not within the set $\\{x_i\\}_i$, however this is not an inconvenient when handling real applications.\n",
    "\n",
    "This formula constitutes the **(n+1)-point approximation** and it comprises a generalization of almost all the existing schemes to differentiate numerically. Next, we shall derive some very used formulas.\n",
    "\n",
    "For example, the form that takes this derivative polynomial for 3 points $(x_i,y_i)$ is the following\n",
    "\n",
    "$$f'(x_j) = f(x_0)\\left[ \\frac{2x_j-x_1-x_2}{(x_0-x_1)(x_0-x_2)}\\right] + \n",
    "f(x_1)\\left[ \\frac{2x_j-x_0-x_2}{(x_1-x_0)(x_1-x_2)}\\right] +\n",
    "f(x_2)\\left[ \\frac{2x_j-x_0-x_1}{(x_2-x_0)(x_2-x_1)}\\right] $$ \n",
    "$$\\hspace{2cm} + \\frac{1}{6} f^{(3)}(\\epsilon_j) \\prod_{k=0,k\\neq j}^{n}(x_j-x_k)$$"
   ]
  },
  {
   "cell_type": "markdown",
   "metadata": {
    "colab_type": "text",
    "id": "73Bfd3Bb1BbA"
   },
   "source": [
    "### Endpoint formulas"
   ]
  },
  {
   "cell_type": "markdown",
   "metadata": {
    "colab_type": "text",
    "id": "ravzokPL1BbA"
   },
   "source": [
    "Endpoint formulas are based on evaluating the derivative at the first of a set of points, i.e., if we want to evaluate $f'(x)$ at $x_i$, we then need $(x_i$, $x_{i+1}=x_i+h$, $x_{i+2}=x_i+2h$, $\\cdots)$. For the sake of simplicity, it is usually assumed that the set $\\{x_i\\}_i$ is equally spaced such that $x_k = x_0+k\\cdot h$.\n",
    "\n",
    "**Three-point Endpoint Formula**\n",
    "\n",
    "$$f'(x_i) = \\frac{1}{2h}[-3f(x_i)+4f(x_i+h)-f(x_i+2h)] + \\frac{h^2}{3}f^{(3)}(\\xi)$$\n",
    "\n",
    "with $\\xi\\in[x_i,x_i+2h]$\n",
    "\n",
    "**Five-point Endpoint Formula**\n",
    "\n",
    "$$f'(x_i) = \\frac{1}{12h}[-25f(x_i)+48f(x_i+h)-36f(x_i+2h)+16f(x_i+3h)-3f(x_i+4h)] + \\frac{h^4}{5}f^{(5)}(\\xi)$$\n",
    "\n",
    "with $\\xi\\in[x_i,x_i+4h]$\n",
    "\n",
    "\n",
    "Endpoint formulas are especially useful near to the end of a set of points, where no further points exist."
   ]
  },
  {
   "cell_type": "markdown",
   "metadata": {
    "colab_type": "text",
    "id": "xPu3StrM1BbB"
   },
   "source": [
    "### Midpoint formulas"
   ]
  },
  {
   "cell_type": "markdown",
   "metadata": {
    "colab_type": "text",
    "id": "X-aX0yP01BbB"
   },
   "source": [
    "On the other hand, Midpoint formulas are based on evaluating the derivative at the middle of a set of points, i.e., if we want to evaluate $f'(x)$ at $x_i$, we then need $(\\cdots$, $x_{i-2} = x_i - 2h$, $x_{i-1} = x_i - h$, $x_i$, $x_{i+1}=x_i+h$, $x_{i+2}=x_i+2h$, $\\cdots)$.\n",
    "\n",
    "**Three-point Midpoint Formula**\n",
    "\n",
    "$$f'(x_i) = \\frac{1}{2h}[f(x_i+h)-f(x_i-h)] + \\frac{h^2}{6}f^{(3)}(\\xi)$$\n",
    "\n",
    "with $\\xi\\in[x_i-h,x_i+h]$\n",
    "\n",
    "**Five-point Midpoint Formula**\n",
    "\n",
    "$$f'(x_i) = \\frac{1}{12h}[f(x_i-2h)-8f(x_i-h)+8f(x_i+h)-f(x_i+2h)] + \\frac{h^4}{30}f^{(5)}(\\xi)$$\n",
    "\n",
    "with $\\xi\\in[x_i-2h,x_i+2h]$\n",
    "\n",
    "\n",
    "As Midpoint formulas required one iteration less than Endpoint ones, they are more often used for numerical applications. Furthermore, the round-off error is smaller as well. However, near to the end of a set of points, they are no longer useful as no further points exists, and Endpoint formulas are preferable."
   ]
  },
  {
   "cell_type": "markdown",
   "metadata": {
    "colab_type": "text",
    "id": "8d2DDKhq1BbM"
   },
   "source": [
    "Example with custom implementation"
   ]
  },
  {
   "cell_type": "code",
   "execution_count": null,
   "metadata": {
    "colab": {},
    "colab_type": "code",
    "id": "gdXTYANs1BbN",
    "outputId": "3337d176-776c-4829-b021-4f5668f2d690"
   },
   "outputs": [
    {
     "data": {
      "text/plain": [
       "<matplotlib.text.Text at 0x7f87263de3d0>"
      ]
     },
     "execution_count": 106,
     "metadata": {
      "tags": []
     },
     "output_type": "execute_result"
    },
    {
     "data": {
      "image/png": "[encoded data removed]",
      "text/plain": [
       "<matplotlib.figure.Figure at 0x7f87265b7b50>"
      ]
     },
     "metadata": {
      "tags": []
     },
     "output_type": "display_data"
    }
   ],
   "source": [
    "#Temperature profile \n",
    "def Temp(x):\n",
    "    return x**3 + 3*x-1\n",
    "\n",
    "#Derivative three end point \n",
    "\n",
    "def TEP( Yn,i, h=0.01,right=0 ):\n",
    "    suma = -3*Yn[i]+4*Yn[i+(-1)**right*1]-Yn[i+(-1)**right*2]\n",
    "    return suma/(2*h*(-1)**right)\n",
    "\n",
    "#Derivative mid point \n",
    "def TMP( Ynh,Ynmh, h = 0.01 ):    \n",
    "    return (Ynh-Ynmh)/(2*h)\n",
    "\n",
    "## Points where function is known\n",
    "Xn = np.linspace(0,10,100)\n",
    "Tn = Temp(Xn)\n",
    "#Magnitude of heat flux array\n",
    "Q = np.zeros(len(Xn))\n",
    "#Left end derivative\n",
    "Q[0] = TEP(Tn,0)\n",
    "\n",
    "#Mid point derivatives\n",
    "index = len(Xn)-1\n",
    "for i in xrange( 1,index ):    \n",
    "    Q[i] =  TMP( Tn[i+1],Tn[i-1] )\n",
    "\n",
    "#Right end derivative      \n",
    "Q[-1] = TEP( Tn,index,right=1 ) \n",
    "\n",
    "#Plotting \n",
    "plt.figure( figsize=(8,7) )\n",
    "plt.plot(Xn,Q)\n",
    "\n",
    "plt.grid()\n",
    "plt.xlabel( \"x\",fontsize =15 )\n",
    "plt.ylabel( \"$\\\\frac{dT}{dx}$\",fontsize =20 )\n",
    "plt.title( \" Magnitud heat flux transfer in 1D bar\" )"
   ]
  },
  {
   "cell_type": "code",
   "execution_count": null,
   "metadata": {},
   "outputs": [],
   "source": []
  }
 ],
 "metadata": {
  "colab": {
   "include_colab_link": true,
   "name": "numerical-calculus.ipynb",
   "provenance": [],
   "version": "0.3.2"
  },
  "kernelspec": {
   "display_name": "Python 3 (ipykernel)",
   "language": "python",
   "name": "python3"
  },
  "language_info": {
   "codemirror_mode": {
    "name": "ipython",
    "version": 3
   },
   "file_extension": ".py",
   "mimetype": "text/x-python",
   "name": "python",
   "nbconvert_exporter": "python",
   "pygments_lexer": "ipython3",
   "version": "3.9.2"
  }
 },
 "nbformat": 4,
 "nbformat_minor": 4
}
