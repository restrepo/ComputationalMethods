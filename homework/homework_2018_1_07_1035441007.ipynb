{
 "cells": [
  {
   "cell_type": "code",
   "execution_count": 17,
   "metadata": {},
   "outputs": [
    {
     "name": "stdout",
     "output_type": "stream",
     "text": [
      "Populating the interactive namespace from numpy and matplotlib\n"
     ]
    }
   ],
   "source": [
    "import numpy as np\n",
    "from scipy import optimize\n",
    "import pandas as pd\n",
    "%pylab inline"
   ]
  },
  {
   "cell_type": "code",
   "execution_count": 18,
   "metadata": {},
   "outputs": [],
   "source": [
    "global g\n",
    "g=9.8"
   ]
  },
  {
   "cell_type": "code",
   "execution_count": 19,
   "metadata": {},
   "outputs": [],
   "source": [
    "def S(x,t=0.,m=0,xini=0.,xend=0.):\n",
    "    t=float(t)\n",
    "    Dt=t/x[:-1].size\n",
    "    x=np.asarray(x)\n",
    "    x[0]=xini\n",
    "    x[-1]=xend\n",
    "    return ((0.5*m*(x[1:]-x[:-1])**2/Dt**2-0.5*m*g*(x[1:]+x[:-1]))*Dt).sum()\n"
   ]
  },
  {
   "cell_type": "code",
   "execution_count": 20,
   "metadata": {},
   "outputs": [],
   "source": [
    "def xfit(n,t=0,m=0,xini=0.,xend=0.,ftol=1E-8):\n",
    "    t=float(t)\n",
    "    if n%2==0:\n",
    "        print ('x array must be odd')\n",
    "        sys.exit()\n",
    "  \n",
    "    x0=np.zeros(n)\n",
    "    a=optimize.fmin_powell(S,x0,args=(t,m,xini,xend),ftol=ftol,full_output=1)\n",
    "    x=a[0]\n",
    "    x[0]=xini;x[-1]=xend\n",
    "    xmax=np.sort(x)[-1]\n",
    "    Smin=a[1]\n",
    "    Dt=t/x[:-1].size\n",
    "    return x,xmax,Smin,Dt"
   ]
  },
  {
   "cell_type": "code",
   "execution_count": 21,
   "metadata": {},
   "outputs": [],
   "source": [
    "#Definiendo parámetros\n",
    "m=0.2 #Masa\n",
    "t=4.0 #Tiempo\n",
    "n=15 #Número de puntos"
   ]
  },
  {
   "cell_type": "code",
   "execution_count": 22,
   "metadata": {},
   "outputs": [
    {
     "name": "stdout",
     "output_type": "stream",
     "text": [
      "Optimization terminated successfully.\n",
      "         Current function value: -50.960000\n",
      "         Iterations: 20\n",
      "         Function evaluations: 3724\n"
     ]
    }
   ],
   "source": [
    "#Minimizando la acción\n",
    "y=xfit(n,t,m,ftol=1E-16)"
   ]
  },
  {
   "cell_type": "code",
   "execution_count": 23,
   "metadata": {},
   "outputs": [
    {
     "name": "stdout",
     "output_type": "stream",
     "text": [
      "      2\n",
      "-4.9 x + 19.6 x + 6.413e-08\n"
     ]
    }
   ],
   "source": [
    "#Ahora pues, hallamos el polinomio que describe el movimiento\n",
    "t=np.linspace(0,4,n)\n",
    "P=np.polyfit(t,y[0],deg=2)\n",
    "pol=np.poly1d(P)\n",
    "print(pol)"
   ]
  },
  {
   "cell_type": "code",
   "execution_count": 29,
   "metadata": {},
   "outputs": [
    {
     "data": {
      "text/plain": [
       "<matplotlib.legend.Legend at 0x7fbc46f38cf8>"
      ]
     },
     "execution_count": 29,
     "metadata": {},
     "output_type": "execute_result"
    },
    {
     "data": {
      "image/png": "[encoded data removed]",
      "text/plain": [
       "<matplotlib.figure.Figure at 0x7fbc46f90128>"
      ]
     },
     "metadata": {},
     "output_type": "display_data"
    }
   ],
   "source": [
    "plt.plot(t,pol(t),label=\"Trayectoria según polinomio\")\n",
    "plt.ylabel(\"Posición [m]\")\n",
    "plt.xlabel(\"Tiempo [s]\")\n",
    "plt.title(\"Posición vs. Tiempo: Movimiento Parabólico\")\n",
    "\n",
    "plot(t,y[0],'ro',label=\"Puntos\")\n",
    "plt.legend()\n",
    "\n"
   ]
  },
  {
   "cell_type": "code",
   "execution_count": null,
   "metadata": {},
   "outputs": [],
   "source": []
  }
 ],
 "metadata": {
  "kernelspec": {
   "display_name": "Python 3",
   "language": "python",
   "name": "python3"
  },
  "language_info": {
   "codemirror_mode": {
    "name": "ipython",
    "version": 3
   },
   "file_extension": ".py",
   "mimetype": "text/x-python",
   "name": "python",
   "nbconvert_exporter": "python",
   "pygments_lexer": "ipython3",
   "version": "3.5.2"
  }
 },
 "nbformat": 4,
 "nbformat_minor": 2
}
