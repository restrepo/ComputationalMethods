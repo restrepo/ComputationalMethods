{
 "cells": [
  {
   "cell_type": "code",
   "execution_count": 1,
   "metadata": {},
   "outputs": [
    {
     "name": "stdout",
     "output_type": "stream",
     "text": [
      "Populating the interactive namespace from numpy and matplotlib\n"
     ]
    }
   ],
   "source": [
    "%pylab inline\n",
    "import pandas as pd\n",
    "from scipy import optimize"
   ]
  },
  {
   "cell_type": "code",
   "execution_count": 9,
   "metadata": {},
   "outputs": [],
   "source": [
    "#Generamos los puntos \n",
    "df= pd.DataFrame({'X':[1.2,2.3,3.6,4.1,5.2,6.7,7.3,8.1], \n",
    "                  'Y':[-6.59,-2.66,2.36,34.8,76.5,7.77,2.45,1.40]})"
   ]
  },
  {
   "cell_type": "code",
   "execution_count": 11,
   "metadata": {},
   "outputs": [
    {
     "name": "stdout",
     "output_type": "stream",
     "text": [
      "          7         6         5         4         3         2\n",
      "-0.04067 x + 1.022 x - 8.716 x + 20.45 x + 100.4 x - 640.7 x + 1179 x - 696.1\n"
     ]
    }
   ],
   "source": [
    "'''Interpolamos los puntos con un polinomio de grado alto \n",
    "Para este caso es grado 8 puesto que es el que mejor se ajusta\n",
    "y que describe curvas más suaves'''\n",
    "coeffs=np.polyfit(df.X,df.Y,deg=7)\n",
    "P=np.poly1d(coeffs)\n",
    "print (P)"
   ]
  },
  {
   "cell_type": "code",
   "execution_count": 12,
   "metadata": {},
   "outputs": [
    {
     "data": {
      "text/plain": [
       "<matplotlib.legend.Legend at 0x7fecfe38c320>"
      ]
     },
     "execution_count": 12,
     "metadata": {},
     "output_type": "execute_result"
    },
    {
     "data": {
      "image/png": "[encoded data removed]",
      "text/plain": [
       "<matplotlib.figure.Figure at 0x7fecfe38c080>"
      ]
     },
     "metadata": {},
     "output_type": "display_data"
    }
   ],
   "source": [
    "plt.plot(df.X,df.Y,'ro', label='Puntos a interpolar')\n",
    "x=np.linspace(df.X[0],df.X[7])\n",
    "plt.plot(x,P(x), \"b\", label='Polinomio de interpolación')\n",
    "plt.legend()\n"
   ]
  },
  {
   "cell_type": "code",
   "execution_count": 15,
   "metadata": {},
   "outputs": [
    {
     "name": "stdout",
     "output_type": "stream",
     "text": [
      "Optimization terminated successfully.\n",
      "         Current function value: 0.535360\n",
      "         Iterations: 2\n",
      "         Function evaluations: 50\n",
      "Optimization terminated successfully.\n",
      "         Current function value: -18.861286\n",
      "         Iterations: 2\n",
      "         Function evaluations: 40\n"
     ]
    }
   ],
   "source": [
    "#Implementando Scipy, hallamos el mínimo relativo y absoluto\n",
    "\n",
    "r=optimize.fmin_powell(P,7, full_output=True)#Minimo local\n",
    "a=optimize.fmin_powell(P,3, full_output=True)#Minimo global"
   ]
  },
  {
   "cell_type": "code",
   "execution_count": 16,
   "metadata": {},
   "outputs": [
    {
     "name": "stdout",
     "output_type": "stream",
     "text": [
      "El mínimo absoluto y el mínimo relativo son, respectivamente 2.915336201653282,-18.861285909179855 y 7.089721927659005,0.5353595217214888\n"
     ]
    }
   ],
   "source": [
    "print ('El mínimo absoluto y el mínimo relativo son, respectivamente {},{} y {},{}'.format(a[0],a[1],r[0],r[1]))\n"
   ]
  },
  {
   "cell_type": "code",
   "execution_count": null,
   "metadata": {},
   "outputs": [],
   "source": []
  }
 ],
 "metadata": {
  "kernelspec": {
   "display_name": "Python 3",
   "language": "python",
   "name": "python3"
  },
  "language_info": {
   "codemirror_mode": {
    "name": "ipython",
    "version": 3
   },
   "file_extension": ".py",
   "mimetype": "text/x-python",
   "name": "python",
   "nbconvert_exporter": "python",
   "pygments_lexer": "ipython3",
   "version": "3.5.2"
  }
 },
 "nbformat": 4,
 "nbformat_minor": 2
}
